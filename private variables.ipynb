{
 "cells": [
  {
   "cell_type": "code",
   "execution_count": 1,
   "metadata": {},
   "outputs": [
    {
     "ename": "AttributeError",
     "evalue": "Myclass instance has no attribute '__a'",
     "output_type": "error",
     "traceback": [
      "\u001b[1;31m---------------------------------------------------------------------------\u001b[0m",
      "\u001b[1;31mAttributeError\u001b[0m                            Traceback (most recent call last)",
      "\u001b[1;32m<ipython-input-1-c75f46da6429>\u001b[0m in \u001b[0;36m<module>\u001b[1;34m()\u001b[0m\n\u001b[0;32m      5\u001b[0m         \u001b[0mself\u001b[0m\u001b[1;33m.\u001b[0m\u001b[0m__c\u001b[0m \u001b[1;33m=\u001b[0m \u001b[0mc\u001b[0m\u001b[1;33m\u001b[0m\u001b[0m\n\u001b[0;32m      6\u001b[0m \u001b[0mo\u001b[0m \u001b[1;33m=\u001b[0m \u001b[0mMyclass\u001b[0m\u001b[1;33m(\u001b[0m\u001b[1;36m15\u001b[0m\u001b[1;33m,\u001b[0m \u001b[1;36m30\u001b[0m\u001b[1;33m)\u001b[0m\u001b[1;33m\u001b[0m\u001b[0m\n\u001b[1;32m----> 7\u001b[1;33m \u001b[1;32mprint\u001b[0m \u001b[0mo\u001b[0m\u001b[1;33m.\u001b[0m\u001b[0m__a\u001b[0m\u001b[1;33m,\u001b[0m \u001b[0mo\u001b[0m\u001b[1;33m.\u001b[0m\u001b[0m__b\u001b[0m\u001b[1;33m,\u001b[0m \u001b[0mo\u001b[0m\u001b[1;33m.\u001b[0m\u001b[0m__c\u001b[0m\u001b[1;33m\u001b[0m\u001b[0m\n\u001b[0m",
      "\u001b[1;31mAttributeError\u001b[0m: Myclass instance has no attribute '__a'"
     ]
    }
   ],
   "source": [
    "class Myclass():\n",
    "    __a = 20\n",
    "    def __init__(self, b, c):\n",
    "        self.__b = b\n",
    "        self.__c = c\n",
    "o = Myclass(15, 30)\n",
    "print o.__a, o.__b, o.__c"
   ]
  },
  {
   "cell_type": "code",
   "execution_count": 2,
   "metadata": {},
   "outputs": [
    {
     "ename": "AttributeError",
     "evalue": "Myclass instance has no attribute '__myfun'",
     "output_type": "error",
     "traceback": [
      "\u001b[1;31m---------------------------------------------------------------------------\u001b[0m",
      "\u001b[1;31mAttributeError\u001b[0m                            Traceback (most recent call last)",
      "\u001b[1;32m<ipython-input-2-245272560f78>\u001b[0m in \u001b[0;36m<module>\u001b[1;34m()\u001b[0m\n\u001b[0;32m      7\u001b[0m         \u001b[1;32mreturn\u001b[0m \u001b[1;34m\"return from myfun\"\u001b[0m\u001b[1;33m\u001b[0m\u001b[0m\n\u001b[0;32m      8\u001b[0m \u001b[0mo\u001b[0m \u001b[1;33m=\u001b[0m \u001b[0mMyclass\u001b[0m\u001b[1;33m(\u001b[0m\u001b[1;36m15\u001b[0m\u001b[1;33m,\u001b[0m \u001b[1;36m30\u001b[0m\u001b[1;33m)\u001b[0m\u001b[1;33m\u001b[0m\u001b[0m\n\u001b[1;32m----> 9\u001b[1;33m \u001b[1;32mprint\u001b[0m \u001b[0mo\u001b[0m\u001b[1;33m.\u001b[0m\u001b[0m__myfun\u001b[0m\u001b[1;33m(\u001b[0m\u001b[1;33m)\u001b[0m\u001b[1;33m\u001b[0m\u001b[0m\n\u001b[0m",
      "\u001b[1;31mAttributeError\u001b[0m: Myclass instance has no attribute '__myfun'"
     ]
    }
   ],
   "source": [
    "class Myclass():\n",
    "    __a = 20\n",
    "    def __init__(self, b, c):\n",
    "        self.__b = b\n",
    "        self.__c = c\n",
    "    def __myfun(self):\n",
    "        return \"return from myfun\"\n",
    "o = Myclass(15, 30)\n",
    "print o.__myfun()"
   ]
  },
  {
   "cell_type": "code",
   "execution_count": 4,
   "metadata": {},
   "outputs": [
    {
     "name": "stdout",
     "output_type": "stream",
     "text": [
      "['_Myclass__a', '_Myclass__b', '_Myclass__c', '_Myclass__myfun', '__doc__', '__init__', '__module__']\n"
     ]
    }
   ],
   "source": [
    "print dir(o)"
   ]
  },
  {
   "cell_type": "code",
   "execution_count": 5,
   "metadata": {},
   "outputs": [
    {
     "name": "stdout",
     "output_type": "stream",
     "text": [
      "20\n"
     ]
    }
   ],
   "source": [
    "print o._Myclass__a"
   ]
  },
  {
   "cell_type": "code",
   "execution_count": 6,
   "metadata": {},
   "outputs": [
    {
     "name": "stdout",
     "output_type": "stream",
     "text": [
      "redirecting to inbox\n"
     ]
    }
   ],
   "source": [
    "class Gmail():\n",
    "    __username = \"nag\"\n",
    "    __password = \"nag\"\n",
    "    def __authenticate(self, username, password):\n",
    "        if self.__username == username and self.__password == password:\n",
    "            return True\n",
    "        return False\n",
    "    def login(self, username, password):\n",
    "        if self.__authenticate(username, password):\n",
    "            return \"redirecting to inbox\"\n",
    "        return \"invalid login\"\n",
    "o = Gmail()\n",
    "print o.login(\"nag\", \"nag\")"
   ]
  },
  {
   "cell_type": "code",
   "execution_count": 7,
   "metadata": {},
   "outputs": [
    {
     "name": "stdout",
     "output_type": "stream",
     "text": [
      "invalid login\n"
     ]
    }
   ],
   "source": [
    "print o.login(\"nag\", \"nag1\")"
   ]
  },
  {
   "cell_type": "code",
   "execution_count": 8,
   "metadata": {},
   "outputs": [
    {
     "name": "stdout",
     "output_type": "stream",
     "text": [
      "15\n",
      "25\n"
     ]
    }
   ],
   "source": [
    "class Myclass():\n",
    "    __username = \"nag\"\n",
    "    __password = \"nag\"\n",
    "    def __init__(self):\n",
    "        self.__var = 15\n",
    "    def __authenticate(self, username, password):\n",
    "        if self.__username == username and self.__password == password:\n",
    "            return True\n",
    "        return False\n",
    "    def getVar(self, username, password):\n",
    "        #if authentication is ok then return var\n",
    "        if self.__authenticate(username, password):\n",
    "            return self.__var\n",
    "        return \"please login with admin to perform this action\"\n",
    "    def setVar(self, username, password, val):\n",
    "        if self.__authenticate(username, password):\n",
    "            self.__var = val\n",
    "        return \"please login with admin to perform this action\"\n",
    "o = Myclass()\n",
    "print o.getVar(\"nag\", \"nag\")\n",
    "o.setVar(\"nag\", \"nag\", 25)\n",
    "print o.getVar(\"nag\", \"nag\")\n",
    "        "
   ]
  },
  {
   "cell_type": "code",
   "execution_count": 9,
   "metadata": {},
   "outputs": [
    {
     "name": "stdout",
     "output_type": "stream",
     "text": [
      "25\n",
      "please login with admin to perform this action\n"
     ]
    }
   ],
   "source": [
    "print o.getVar(\"nag\", \"nag\")\n",
    "o.setVar(\"nag\", \"nag\", 25)\n",
    "print o.getVar(\"nag\", \"nag1\")"
   ]
  },
  {
   "cell_type": "code",
   "execution_count": null,
   "metadata": {
    "collapsed": true
   },
   "outputs": [],
   "source": []
  }
 ],
 "metadata": {
  "kernelspec": {
   "display_name": "Python 2",
   "language": "python",
   "name": "python2"
  },
  "language_info": {
   "codemirror_mode": {
    "name": "ipython",
    "version": 2
   },
   "file_extension": ".py",
   "mimetype": "text/x-python",
   "name": "python",
   "nbconvert_exporter": "python",
   "pygments_lexer": "ipython2",
   "version": "2.7.13"
  }
 },
 "nbformat": 4,
 "nbformat_minor": 2
}
