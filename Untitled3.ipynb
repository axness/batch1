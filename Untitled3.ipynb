{
 "cells": [
  {
   "cell_type": "code",
   "execution_count": 27,
   "metadata": {},
   "outputs": [
    {
     "name": "stdout",
     "output_type": "stream",
     "text": [
      "enter the books want to include separated by commaasjkdh,sauy\n",
      "['asjkdh', 'sauy']\n",
      "insert into lib values(\"{0}\")\n",
      "insert into lib values(\"asjkdh\")\n",
      "insert into lib values(\"sauy\")\n"
     ]
    }
   ],
   "source": [
    "import sqlite3 as sq\n",
    "class lib:\n",
    "    def __init__(self,book):\n",
    "        self.books=book.split(',')\n",
    "        print self.books\n",
    "        \n",
    "        self.con = sq.connect('test3.db')\n",
    "        cur = self.con.cursor()\n",
    "        #sql = 'create table lib (bookname varchar(20));'\n",
    "        #cur.execute(sql)\n",
    "        self.con.commit()\n",
    "        sql1 = 'insert into lib values(\\\"{0}\\\")'\n",
    "        print sql1\n",
    "        for book in self.books:\n",
    "            sql = sql1.format(book)\n",
    "            print sql\n",
    "            cur.execute(sql)\n",
    "            self.con.commit()\n",
    "        #cur.commit()\n",
    "    def disconnect(self):\n",
    "        self.con.close()\n",
    "        \n",
    "l = lib(raw_input('enter the books want to include separated by comma'))  \n",
    "l.disconnect()"
   ]
  },
  {
   "cell_type": "code",
   "execution_count": null,
   "metadata": {},
   "outputs": [],
   "source": [
    "w"
   ]
  },
  {
   "cell_type": "code",
   "execution_count": 8,
   "metadata": {},
   "outputs": [
    {
     "ename": "AttributeError",
     "evalue": "'builtin_function_or_method' object has no attribute 'cursor'",
     "output_type": "error",
     "traceback": [
      "\u001b[1;31m---------------------------------------------------------------------------\u001b[0m",
      "\u001b[1;31mAttributeError\u001b[0m                            Traceback (most recent call last)",
      "\u001b[1;32m<ipython-input-8-5ab44039c10a>\u001b[0m in \u001b[0;36m<module>\u001b[1;34m()\u001b[0m\n\u001b[1;32m----> 1\u001b[1;33m \u001b[1;32mprint\u001b[0m \u001b[0mdir\u001b[0m\u001b[1;33m(\u001b[0m\u001b[0msq\u001b[0m\u001b[1;33m.\u001b[0m\u001b[0mconnect\u001b[0m\u001b[1;33m.\u001b[0m\u001b[0mcursor\u001b[0m\u001b[1;33m)\u001b[0m\u001b[1;33m\u001b[0m\u001b[0m\n\u001b[0m",
      "\u001b[1;31mAttributeError\u001b[0m: 'builtin_function_or_method' object has no attribute 'cursor'"
     ]
    }
   ],
   "source": []
  },
  {
   "cell_type": "code",
   "execution_count": null,
   "metadata": {
    "collapsed": true
   },
   "outputs": [],
   "source": []
  }
 ],
 "metadata": {
  "kernelspec": {
   "display_name": "Python 2",
   "language": "python",
   "name": "python2"
  },
  "language_info": {
   "codemirror_mode": {
    "name": "ipython",
    "version": 2
   },
   "file_extension": ".py",
   "mimetype": "text/x-python",
   "name": "python",
   "nbconvert_exporter": "python",
   "pygments_lexer": "ipython2",
   "version": "2.7.13"
  }
 },
 "nbformat": 4,
 "nbformat_minor": 2
}
