{
 "cells": [
  {
   "cell_type": "code",
   "execution_count": 1,
   "metadata": {
    "collapsed": true
   },
   "outputs": [],
   "source": [
    "import re"
   ]
  },
  {
   "cell_type": "code",
   "execution_count": 3,
   "metadata": {
    "collapsed": true
   },
   "outputs": [],
   "source": [
    "a = \"my name is nageswararao and fax is +91-1243234 and my phone is +91-8148586071 I am teaching python\""
   ]
  },
  {
   "cell_type": "code",
   "execution_count": 4,
   "metadata": {},
   "outputs": [
    {
     "name": "stdout",
     "output_type": "stream",
     "text": [
      "91-8148586071\n"
     ]
    }
   ],
   "source": [
    "#91-\\d\\d\\d\\d\\d\\d\\d\\d\\d\\d\n",
    "reg = re.compile(r'91-\\d\\d\\d\\d\\d\\d\\d\\d\\d\\d')\n",
    "search = reg.search(a)\n",
    "print search.group()"
   ]
  },
  {
   "cell_type": "code",
   "execution_count": 5,
   "metadata": {},
   "outputs": [
    {
     "name": "stdout",
     "output_type": "stream",
     "text": [
      "91-8148586071\n"
     ]
    }
   ],
   "source": [
    "search = re.search(r'91-\\d\\d\\d\\d\\d\\d\\d\\d\\d\\d', a)\n",
    "print search.group()"
   ]
  },
  {
   "cell_type": "code",
   "execution_count": 6,
   "metadata": {},
   "outputs": [
    {
     "name": "stdout",
     "output_type": "stream",
     "text": [
      "91-8148586071\n"
     ]
    }
   ],
   "source": [
    "search = re.search(r'91-\\d{10}', a)\n",
    "print search.group()"
   ]
  },
  {
   "cell_type": "code",
   "execution_count": 7,
   "metadata": {},
   "outputs": [
    {
     "name": "stdout",
     "output_type": "stream",
     "text": [
      "91-1243234\n"
     ]
    }
   ],
   "source": [
    "a = \"my name is nageswararao and fax is +91-1243234 and my phone is +91-8148586071 I am teaching python\"\n",
    "search = re.search(r'91-\\d{3,}', a)\n",
    "print search.group()"
   ]
  },
  {
   "cell_type": "code",
   "execution_count": 9,
   "metadata": {},
   "outputs": [
    {
     "name": "stdout",
     "output_type": "stream",
     "text": [
      "91-12432\n"
     ]
    }
   ],
   "source": [
    "a = \"my name is nageswararao and fax is +91-12432ab34 and my phone is +91-8148586071 I am teaching python\"\n",
    "search = re.search(r'91-\\d{3,}', a)\n",
    "print search.group()"
   ]
  },
  {
   "cell_type": "code",
   "execution_count": 10,
   "metadata": {},
   "outputs": [
    {
     "name": "stdout",
     "output_type": "stream",
     "text": [
      "91-8148586071 \n"
     ]
    }
   ],
   "source": [
    "a = \"my name is nageswararao and fax is +91-12432ab34 and my phone is +91-8148586071 I am teaching python\"\n",
    "search = re.search(r'91-\\d{3,}\\s', a)\n",
    "print search.group()"
   ]
  },
  {
   "cell_type": "code",
   "execution_count": 13,
   "metadata": {},
   "outputs": [
    {
     "name": "stdout",
     "output_type": "stream",
     "text": [
      "8148586071\n"
     ]
    }
   ],
   "source": [
    "#\\d{1,3}\\.\\d{1,3}\\.\\d{1,3}\\.\\d{1,3}\n",
    "a = \"my name is nageswararao and fax is +91-12432ab34 and my phone is +91-8148586071 I am teaching python\"\n",
    "search = re.search(r'(91)(-)(\\d{3,})\\s', a)\n",
    "print search.group(3)"
   ]
  },
  {
   "cell_type": "code",
   "execution_count": 15,
   "metadata": {},
   "outputs": [
    {
     "name": "stdout",
     "output_type": "stream",
     "text": [
      "12432\n"
     ]
    }
   ],
   "source": [
    "#\\d{1,3}\\.\\d{1,3}\\.\\d{1,3}\\.\\d{1,3}\n",
    "a = \"my name is nageswararao and fax is +91-12432 ab34 and my phone is +91-8148586071 I am teaching python\"\n",
    "search = re.search(r'91-(\\d{3,})\\s', a)\n",
    "print search.group(1)"
   ]
  },
  {
   "cell_type": "code",
   "execution_count": 16,
   "metadata": {},
   "outputs": [
    {
     "name": "stdout",
     "output_type": "stream",
     "text": [
      "['12432', '8148586071']\n"
     ]
    }
   ],
   "source": [
    "a = \"my name is nageswararao and fax is +91-12432 ab34 and my phone is +91-8148586071 I am teaching python\"\n",
    "print re.findall(r'91-(\\d{3,})\\s', a)"
   ]
  },
  {
   "cell_type": "code",
   "execution_count": 17,
   "metadata": {},
   "outputs": [
    {
     "name": "stdout",
     "output_type": "stream",
     "text": [
      "[('91', '12432'), ('91', '8148586071')]\n"
     ]
    }
   ],
   "source": [
    "a = \"my name is nageswararao and fax is +91-12432 ab34 and my phone is +91-8148586071 I am teaching python\"\n",
    "print re.findall(r'(91)-(\\d{3,})\\s', a)"
   ]
  },
  {
   "cell_type": "code",
   "execution_count": 18,
   "metadata": {},
   "outputs": [
    {
     "name": "stdout",
     "output_type": "stream",
     "text": [
      "[]\n"
     ]
    }
   ],
   "source": [
    "a = \"my name is nageswararao and fax is +91-12432 ab34 and my phone is +91-8148586071 I am teaching python\"\n",
    "print re.findall(r'(91)-(\\d{11,})\\s', a)"
   ]
  },
  {
   "cell_type": "code",
   "execution_count": 19,
   "metadata": {},
   "outputs": [
    {
     "name": "stdout",
     "output_type": "stream",
     "text": [
      "[('91', '1'), ('91', '8')]\n"
     ]
    }
   ],
   "source": [
    "a = \"my name is nageswararao and fax is +91-12432 ab34 and my phone is +91-8148586071 I am teaching python\"\n",
    "print re.findall(r'(91)-([0-9])', a)"
   ]
  },
  {
   "cell_type": "code",
   "execution_count": 20,
   "metadata": {},
   "outputs": [
    {
     "name": "stdout",
     "output_type": "stream",
     "text": [
      "[('91', '12432'), ('91', '8148586071')]\n"
     ]
    }
   ],
   "source": [
    "a = \"my name is nageswararao and fax is +91-12432 ab34 and my phone is +91-8148586071 I am teaching python\"\n",
    "print re.findall(r'(91)-([0-9]{3,})', a)"
   ]
  },
  {
   "cell_type": "code",
   "execution_count": 22,
   "metadata": {},
   "outputs": [
    {
     "name": "stdout",
     "output_type": "stream",
     "text": [
      "[]\n"
     ]
    }
   ],
   "source": [
    "#a = \"ameerpet axness-batch_6/strength-25 members/training-[java,python]\"\n",
    "name = \"Nageswararao  ullindala\"\n",
    "print re.findall(r\"Nageswararao.ullindala\", name)"
   ]
  },
  {
   "cell_type": "code",
   "execution_count": 7,
   "metadata": {},
   "outputs": [
    {
     "name": "stdout",
     "output_type": "stream",
     "text": [
      "['babu']\n",
      "['u']\n"
     ]
    }
   ],
   "source": [
    "#a = \"ameerpet axness-batch_6/strength-25 members/training-[java,python]\"\n",
    "import re\n",
    "s = \"mahesh babu acted in bharat ane nenu\"\n",
    "print re.findall('bab.', s)\n",
    "print re.findall('bab(u+)', s)"
   ]
  },
  {
   "cell_type": "code",
   "execution_count": 8,
   "metadata": {},
   "outputs": [
    {
     "name": "stdout",
     "output_type": "stream",
     "text": [
      "['babu']\n",
      "['uuu']\n"
     ]
    }
   ],
   "source": [
    "#a = \"ameerpet axness-batch_6/strength-25 members/training-[java,python]\"\n",
    "import re\n",
    "s = \"mahesh babuuu acted in bharat ane nenu\"\n",
    "print re.findall('bab.', s)\n",
    "print re.findall('bab(u+)', s)"
   ]
  },
  {
   "cell_type": "code",
   "execution_count": 9,
   "metadata": {},
   "outputs": [
    {
     "name": "stdout",
     "output_type": "stream",
     "text": [
      "['bab ']\n",
      "[]\n"
     ]
    }
   ],
   "source": [
    "#a = \"ameerpet axness-batch_6/strength-25 members/training-[java,python]\"\n",
    "import re\n",
    "s = \"mahesh bab acted in bharat ane nenu\"\n",
    "print re.findall('bab.', s)\n",
    "print re.findall('bab(u+)', s)"
   ]
  },
  {
   "cell_type": "code",
   "execution_count": 11,
   "metadata": {},
   "outputs": [
    {
     "name": "stdout",
     "output_type": "stream",
     "text": [
      "['babu']\n",
      "['bu']\n"
     ]
    }
   ],
   "source": [
    "#a = \"ameerpet axness-batch_6/strength-25 members/training-[java,python]\"\n",
    "import re\n",
    "s = \"mahesh babu acted in bharat ane nenu\"\n",
    "print re.findall('bab.', s)\n",
    "print re.findall('ba(bu+)', s)"
   ]
  },
  {
   "cell_type": "code",
   "execution_count": 15,
   "metadata": {},
   "outputs": [
    {
     "name": "stdout",
     "output_type": "stream",
     "text": [
      "['babu']\n",
      "babubu\n"
     ]
    }
   ],
   "source": [
    "#a = \"ameerpet axness-batch_6/strength-25 members/training-[java,python]\"\n",
    "import re\n",
    "s = \"mahesh babubu acted in bharat ane nenu\"\n",
    "print re.findall('bab.', s)\n",
    "se =  re.search('ba((bu)+)', s)\n",
    "print se.group()"
   ]
  },
  {
   "cell_type": "code",
   "execution_count": 18,
   "metadata": {},
   "outputs": [
    {
     "name": "stdout",
     "output_type": "stream",
     "text": [
      "['babu']\n",
      "babu\n"
     ]
    }
   ],
   "source": [
    "#a = \"ameerpet axness-batch_6/strength-25 members/training-[java,python]\"\n",
    "import re\n",
    "s = \"mahesh babuuuu acted in bharat ane nenu\"\n",
    "print re.findall('bab.', s)\n",
    "se =  re.search('bab(u?)', s)\n",
    "print se.group()"
   ]
  },
  {
   "cell_type": "code",
   "execution_count": 19,
   "metadata": {},
   "outputs": [
    {
     "name": "stdout",
     "output_type": "stream",
     "text": [
      "['babu']\n",
      "babuuuu\n"
     ]
    }
   ],
   "source": [
    "#a = \"ameerpet axness-batch_6/strength-25 members/training-[java,python]\"\n",
    "import re\n",
    "s = \"mahesh babuuuu acted in bharat ane nenu\"\n",
    "print re.findall('bab.', s)\n",
    "se =  re.search('bab(u*)', s)\n",
    "print se.group()"
   ]
  },
  {
   "cell_type": "code",
   "execution_count": 20,
   "metadata": {},
   "outputs": [
    {
     "name": "stdout",
     "output_type": "stream",
     "text": [
      "['babu']\n",
      "bab\n"
     ]
    }
   ],
   "source": [
    "#a = \"ameerpet axness-batch_6/strength-25 members/training-[java,python]\"\n",
    "import re\n",
    "s = \"mahesh babuuuu acted in bharat ane nenu\"\n",
    "print re.findall('bab.', s)\n",
    "se =  re.search('bab(u*?)', s)\n",
    "print se.group()"
   ]
  },
  {
   "cell_type": "code",
   "execution_count": 21,
   "metadata": {},
   "outputs": [
    {
     "name": "stdout",
     "output_type": "stream",
     "text": [
      "['babu']\n",
      "babuuuu acted in bharat ane nenu\n"
     ]
    }
   ],
   "source": [
    "#a = \"ameerpet axness-batch_6/strength-25 members/training-[java,python]\"\n",
    "import re\n",
    "s = \"mahesh babuuuu acted in bharat ane nenu\"\n",
    "print re.findall('bab.', s)\n",
    "se =  re.search('bab(.+)', s)\n",
    "print se.group()"
   ]
  },
  {
   "cell_type": "code",
   "execution_count": 22,
   "metadata": {},
   "outputs": [
    {
     "name": "stdout",
     "output_type": "stream",
     "text": [
      "['babu']\n",
      "babu\n"
     ]
    }
   ],
   "source": [
    "#a = \"ameerpet axness-batch_6/strength-25 members/training-[java,python]\"\n",
    "import re\n",
    "s = \"mahesh babuuuu acted in bharat ane nenu\"\n",
    "print re.findall('bab.', s)\n",
    "se =  re.search('bab(.?)', s)\n",
    "print se.group()"
   ]
  },
  {
   "cell_type": "code",
   "execution_count": 23,
   "metadata": {},
   "outputs": [
    {
     "name": "stdout",
     "output_type": "stream",
     "text": [
      "['babu']\n",
      "babuuuu acted in b\n"
     ]
    }
   ],
   "source": [
    "#a = \"ameerpet axness-batch_6/strength-25 members/training-[java,python]\"\n",
    "import re\n",
    "s = \"mahesh babuuuu acted in bharat ane nenu\"\n",
    "print re.findall('bab.', s)\n",
    "se =  re.search('bab(.+)b', s)\n",
    "print se.group()"
   ]
  },
  {
   "cell_type": "code",
   "execution_count": null,
   "metadata": {
    "collapsed": true
   },
   "outputs": [],
   "source": []
  }
 ],
 "metadata": {
  "kernelspec": {
   "display_name": "Python 2",
   "language": "python",
   "name": "python2"
  },
  "language_info": {
   "codemirror_mode": {
    "name": "ipython",
    "version": 2
   },
   "file_extension": ".py",
   "mimetype": "text/x-python",
   "name": "python",
   "nbconvert_exporter": "python",
   "pygments_lexer": "ipython2",
   "version": "2.7.13"
  }
 },
 "nbformat": 4,
 "nbformat_minor": 2
}
