{
 "cells": [
  {
   "cell_type": "code",
   "execution_count": 2,
   "metadata": {},
   "outputs": [
    {
     "name": "stdout",
     "output_type": "stream",
     "text": [
      "prime number\n"
     ]
    }
   ],
   "source": [
    "a = 23\n",
    "i=2\n",
    "found = True\n",
    "while i < a:\n",
    "    if a%i == 0:\n",
    "        found = False\n",
    "    i += 1\n",
    "        \n",
    "if found:\n",
    "    print \"prime number\""
   ]
  },
  {
   "cell_type": "code",
   "execution_count": 4,
   "metadata": {},
   "outputs": [
    {
     "name": "stdout",
     "output_type": "stream",
     "text": [
      "not prime\n"
     ]
    }
   ],
   "source": [
    "a = 25\n",
    "i=2\n",
    "found = True\n",
    "while i < a:\n",
    "    if a%i == 0:\n",
    "        found = False\n",
    "    i += 1\n",
    "        \n",
    "if found:\n",
    "    print \"prime number\"\n",
    "else:\n",
    "    print \"not prime\""
   ]
  },
  {
   "cell_type": "code",
   "execution_count": 5,
   "metadata": {},
   "outputs": [
    {
     "name": "stdout",
     "output_type": "stream",
     "text": [
      "not prime\n"
     ]
    }
   ],
   "source": [
    "a = 25\n",
    "i=2\n",
    "found = True\n",
    "while i < a:\n",
    "    if a%i == 0:\n",
    "        found = False\n",
    "        break\n",
    "    i += 1\n",
    "    #break\n",
    "        \n",
    "if found:\n",
    "    print \"prime number\"\n",
    "else:\n",
    "    print \"not prime\""
   ]
  },
  {
   "cell_type": "code",
   "execution_count": 1,
   "metadata": {},
   "outputs": [
    {
     "name": "stdout",
     "output_type": "stream",
     "text": [
      "not prime\n"
     ]
    }
   ],
   "source": [
    "a = 1000001\n",
    "i=2\n",
    "found = True\n",
    "while i < a:\n",
    "    if a%i == 0:\n",
    "        found = False\n",
    "        break\n",
    "    i += 1\n",
    "    #break\n",
    "        \n",
    "if found:\n",
    "    print \"prime number\"\n",
    "else:\n",
    "    print \"not prime\""
   ]
  },
  {
   "cell_type": "code",
   "execution_count": 2,
   "metadata": {
    "collapsed": true
   },
   "outputs": [],
   "source": [
    "i = 0\n",
    "while i < 10:\n",
    "    break\n",
    "    print i"
   ]
  },
  {
   "cell_type": "code",
   "execution_count": null,
   "metadata": {
    "collapsed": true
   },
   "outputs": [],
   "source": [
    "i = 0\n",
    "while i < 10:\n",
    "    if i == 5:\n",
    "        break\n",
    "    print i\n",
    "    i =+ 5"
   ]
  }
 ],
 "metadata": {
  "kernelspec": {
   "display_name": "Python 2",
   "language": "python",
   "name": "python2"
  },
  "language_info": {
   "codemirror_mode": {
    "name": "ipython",
    "version": 2
   },
   "file_extension": ".py",
   "mimetype": "text/x-python",
   "name": "python",
   "nbconvert_exporter": "python",
   "pygments_lexer": "ipython2",
   "version": "2.7.13"
  }
 },
 "nbformat": 4,
 "nbformat_minor": 2
}
