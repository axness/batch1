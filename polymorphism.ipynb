{
 "cells": [
  {
   "cell_type": "code",
   "execution_count": 2,
   "metadata": {},
   "outputs": [
    {
     "name": "stdout",
     "output_type": "stream",
     "text": [
      "['__doc__', '__init__', '__module__', 'acc', 'bal', 'deposit', 'interest', 'withdrawl']\n"
     ]
    }
   ],
   "source": [
    "class Account():\n",
    "    def __init__(self, bal, acc):\n",
    "        self.bal = bal\n",
    "        self.acc = acc\n",
    "    def deposit(self, amount):\n",
    "        self.bal += amount\n",
    "    def withdrawl(self, amount):\n",
    "        self.bal -= amount\n",
    "    def interest(self):\n",
    "        interest =  (self.bal*0.01)/100\n",
    "        self.bal += interest\n",
    "class SavingAccount(Account):\n",
    "    def interest(self):\n",
    "        interest = (self.bal*0.04)/100\n",
    "        self.bal += interest\n",
    "o = SavingAccount(500, 25)\n",
    "print dir(o)"
   ]
  },
  {
   "cell_type": "code",
   "execution_count": 9,
   "metadata": {},
   "outputs": [],
   "source": [
    "class Account():\n",
    "    def __init__(self, bal, acc):\n",
    "        self.bal = bal\n",
    "        self.acc = acc\n",
    "    #def deposit(self, amount):\n",
    "    #    self.bal += amount\n",
    "    def withdrawl(self, amount):\n",
    "        self.bal -= amount\n",
    "    def deposit(self, *amount):\n",
    "        self.bal = self.bal+sum(amount)\n",
    "    def interest(self):\n",
    "        interest =  (self.bal*0.01)/100\n",
    "        self.bal += interest\n",
    "class SavingAccount(Account):\n",
    "    def interest(self):\n",
    "        interest = (self.bal*0.04)/100\n",
    "        self.bal += interest\n",
    "o = SavingAccount(500, 25)\n",
    "#print dir(o)"
   ]
  },
  {
   "cell_type": "code",
   "execution_count": 10,
   "metadata": {},
   "outputs": [
    {
     "name": "stdout",
     "output_type": "stream",
     "text": [
      "1100\n"
     ]
    }
   ],
   "source": [
    "o.deposit(500, 100)\n",
    "print o.bal"
   ]
  },
  {
   "cell_type": "code",
   "execution_count": 11,
   "metadata": {},
   "outputs": [],
   "source": [
    "o.deposit(500)"
   ]
  },
  {
   "cell_type": "code",
   "execution_count": 12,
   "metadata": {},
   "outputs": [
    {
     "name": "stdout",
     "output_type": "stream",
     "text": [
      "1600\n"
     ]
    }
   ],
   "source": [
    "print o.bal"
   ]
  },
  {
   "cell_type": "code",
   "execution_count": null,
   "metadata": {
    "collapsed": true
   },
   "outputs": [],
   "source": []
  }
 ],
 "metadata": {
  "kernelspec": {
   "display_name": "Python 2",
   "language": "python",
   "name": "python2"
  },
  "language_info": {
   "codemirror_mode": {
    "name": "ipython",
    "version": 2
   },
   "file_extension": ".py",
   "mimetype": "text/x-python",
   "name": "python",
   "nbconvert_exporter": "python",
   "pygments_lexer": "ipython2",
   "version": "2.7.13"
  }
 },
 "nbformat": 4,
 "nbformat_minor": 2
}
