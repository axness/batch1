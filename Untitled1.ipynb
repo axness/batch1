{
 "cells": [
  {
   "cell_type": "code",
   "execution_count": 4,
   "metadata": {
    "collapsed": true
   },
   "outputs": [],
   "source": [
    "class Myclass():\n",
    "    @classmethod\n",
    "    def myfun(cls, a):\n",
    "        print cls\n",
    "        cls.a = a\n",
    "    "
   ]
  },
  {
   "cell_type": "code",
   "execution_count": 5,
   "metadata": {},
   "outputs": [
    {
     "name": "stdout",
     "output_type": "stream",
     "text": [
      "__main__.Myclass\n",
      "<__main__.Myclass instance at 0x02362378>\n"
     ]
    }
   ],
   "source": [
    "o = Myclass()\n",
    "o.myfun(5)\n",
    "print o"
   ]
  },
  {
   "cell_type": "code",
   "execution_count": 3,
   "metadata": {
    "collapsed": true
   },
   "outputs": [],
   "source": [
    "Myclass.myfun(5)"
   ]
  },
  {
   "cell_type": "code",
   "execution_count": 7,
   "metadata": {},
   "outputs": [
    {
     "name": "stdout",
     "output_type": "stream",
     "text": [
      "__main__.Myclass\n",
      "<__main__.Myclass instance at 0x023628A0>\n",
      "<__main__.Myclass instance at 0x023628A0>\n"
     ]
    }
   ],
   "source": [
    "class Myclass():\n",
    "    @classmethod\n",
    "    def myfun(self, a):\n",
    "        print self\n",
    "        self.a = a\n",
    "    def myfun1(self):\n",
    "        print self\n",
    "o = Myclass()\n",
    "o.myfun(5)\n",
    "o.myfun1()\n",
    "print o    "
   ]
  },
  {
   "cell_type": "code",
   "execution_count": null,
   "metadata": {
    "collapsed": true
   },
   "outputs": [],
   "source": []
  }
 ],
 "metadata": {
  "kernelspec": {
   "display_name": "Python 2",
   "language": "python",
   "name": "python2"
  },
  "language_info": {
   "codemirror_mode": {
    "name": "ipython",
    "version": 2
   },
   "file_extension": ".py",
   "mimetype": "text/x-python",
   "name": "python",
   "nbconvert_exporter": "python",
   "pygments_lexer": "ipython2",
   "version": "2.7.13"
  }
 },
 "nbformat": 4,
 "nbformat_minor": 2
}
