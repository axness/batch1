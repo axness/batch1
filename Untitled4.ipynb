{
 "cells": [
  {
   "cell_type": "code",
   "execution_count": 1,
   "metadata": {},
   "outputs": [
    {
     "name": "stdout",
     "output_type": "stream",
     "text": [
      "['_Thread__bootstrap', '_Thread__bootstrap_inner', '_Thread__delete', '_Thread__exc_clear', '_Thread__exc_info', '_Thread__initialized', '_Thread__stop', '__class__', '__delattr__', '__dict__', '__doc__', '__format__', '__getattribute__', '__hash__', '__init__', '__module__', '__new__', '__reduce__', '__reduce_ex__', '__repr__', '__setattr__', '__sizeof__', '__str__', '__subclasshook__', '__weakref__', '_block', '_note', '_reset_internal_locks', '_set_daemon', '_set_ident', 'daemon', 'getName', 'ident', 'isAlive', 'isDaemon', 'is_alive', 'join', 'name', 'run', 'setDaemon', 'setName', 'start']\n"
     ]
    }
   ],
   "source": [
    "from threading import Thread\n",
    "print dir(Thread)"
   ]
  },
  {
   "cell_type": "code",
   "execution_count": 2,
   "metadata": {},
   "outputs": [
    {
     "name": "stdout",
     "output_type": "stream",
     "text": [
      "['BoundedSemaphore', 'Condition', 'Event', 'Lock', 'RLock', 'Semaphore', 'Thread', 'ThreadError', 'Timer', '_BoundedSemaphore', '_Condition', '_DummyThread', '_Event', '_MainThread', '_RLock', '_Semaphore', '_Timer', '_VERBOSE', '_Verbose', '__all__', '__builtins__', '__doc__', '__file__', '__name__', '__package__', '_active', '_active_limbo_lock', '_after_fork', '_allocate_lock', '_count', '_counter', '_deque', '_enumerate', '_format_exc', '_get_ident', '_limbo', '_newname', '_pickSomeNonDaemonThread', '_profile_hook', '_shutdown', '_sleep', '_start_new_thread', '_sys', '_test', '_time', '_trace_hook', 'activeCount', 'active_count', 'currentThread', 'current_thread', 'enumerate', 'local', 'setprofile', 'settrace', 'stack_size', 'warnings']\n"
     ]
    }
   ],
   "source": [
    "import threading\n",
    "print dir(threading)"
   ]
  },
  {
   "cell_type": "code",
   "execution_count": 3,
   "metadata": {},
   "outputs": [
    {
     "name": "stdout",
     "output_type": "stream",
     "text": [
      "[<_MainThread(MainThread, started 4260)>, <ParentPollerWindows(Thread-3, started daemon 3692)>, <Thread(Thread-4, started daemon 628)>, <Heartbeat(Thread-5, started daemon 5924)>, <HistorySavingThread(IPythonHistorySavingThread, started 6420)>]\n"
     ]
    }
   ],
   "source": [
    "print threading.enumerate()"
   ]
  },
  {
   "cell_type": "code",
   "execution_count": 6,
   "metadata": {},
   "outputs": [
    {
     "name": "stdout",
     "output_type": "stream",
     "text": [
      "MainThread\n"
     ]
    }
   ],
   "source": [
    "print threading.current_thread().name"
   ]
  },
  {
   "cell_type": "code",
   "execution_count": 7,
   "metadata": {},
   "outputs": [
    {
     "name": "stdout",
     "output_type": "stream",
     "text": [
      "()\n",
      "None\n",
      "()\n",
      "None\n",
      "thread t1thread t2\n",
      "\n",
      "thread t2thread t1\n",
      "\n",
      "thread t1thread t2\n",
      "\n",
      "thread t1thread t2\n",
      "\n",
      "thread t2thread t1\n",
      "\n",
      "thread t1thread t2\n",
      "\n",
      "thread t1thread t2\n",
      "\n",
      "thread t2\n",
      "thread t1\n",
      "thread t2\n",
      "thread t1\n",
      "thread t2\n",
      "thread t1\n"
     ]
    }
   ],
   "source": [
    "from time import sleep\n",
    "class Mythread(threading.Thread):\n",
    "    def run(self):\n",
    "        for x in range(10):\n",
    "            sleep(2)\n",
    "            print threading.current_thread().name\n",
    "t1 = Mythread(name=\"thread t1\")\n",
    "t2 = Mythread(name=\"thread t2\")\n",
    "t1.start()\n",
    "t2.start()"
   ]
  },
  {
   "cell_type": "code",
   "execution_count": 8,
   "metadata": {},
   "outputs": [
    {
     "name": "stdout",
     "output_type": "stream",
     "text": [
      "()\n",
      "None\n",
      "()\n",
      "None\n",
      "thread t1thread t2\n",
      "\n",
      "thread t2thread t1\n",
      "\n",
      "thread t2thread t1\n",
      "\n",
      "thread t2thread t1\n",
      "\n",
      "thread t2thread t1\n",
      "\n",
      "thread t1 \n",
      "thread t2\n",
      "thread t1thread t2\n",
      "\n",
      "thread t2thread t1\n",
      "\n",
      "thread t2thread t1\n",
      "\n",
      "thread t1 \n",
      "thread t2\n",
      "thread t2\n",
      "thread t2\n",
      "thread t2\n",
      "thread t2\n",
      "thread t2\n",
      "thread t2\n",
      "thread t2\n",
      "thread t2\n",
      "thread t2\n",
      "thread t2\n",
      "thread t2\n",
      "thread t2\n",
      "thread t2\n",
      "thread t2\n",
      "thread t2\n"
     ]
    }
   ],
   "source": [
    "from time import sleep\n",
    "class Mythread(threading.Thread):\n",
    "    def __init__(self, **kwargs):\n",
    "        super(Mythread, self).__init__(**kwargs)\n",
    "        self.__exit = False\n",
    "    def logout(self):\n",
    "        self.__exit = True\n",
    "    def run(self):\n",
    "        while not self.__exit:\n",
    "            for x in range(10):\n",
    "                sleep(2)\n",
    "                print threading.current_thread().name\n",
    "t1 = Mythread(name=\"thread t1\")\n",
    "t2 = Mythread(name=\"thread t2\")\n",
    "t1.Daemon = True\n",
    "t1.start()\n",
    "t2.start()\n",
    "t1.logout()"
   ]
  },
  {
   "cell_type": "code",
   "execution_count": null,
   "metadata": {
    "collapsed": true
   },
   "outputs": [],
   "source": []
  }
 ],
 "metadata": {
  "kernelspec": {
   "display_name": "Python 2",
   "language": "python",
   "name": "python2"
  },
  "language_info": {
   "codemirror_mode": {
    "name": "ipython",
    "version": 2
   },
   "file_extension": ".py",
   "mimetype": "text/x-python",
   "name": "python",
   "nbconvert_exporter": "python",
   "pygments_lexer": "ipython2",
   "version": "2.7.13"
  }
 },
 "nbformat": 4,
 "nbformat_minor": 2
}
