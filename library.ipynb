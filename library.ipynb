{
 "cells": [
  {
   "cell_type": "code",
   "execution_count": 1,
   "metadata": {},
   "outputs": [
    {
     "name": "stdout",
     "output_type": "stream",
     "text": [
      "1.display available books \n",
      " 2.borrow a book \n",
      " 3.submit a book\n",
      "enter your choice2\n",
      "python\n",
      "java\n",
      "c\n",
      "enter the book name from the above listjava\n"
     ]
    }
   ],
   "source": [
    "class Library():\n",
    "    def __init__(self,a):\n",
    "        self.books=a\n",
    "    def addb(self,x):\n",
    "        self.books.append(x)\n",
    "    def removeb(self,y):\n",
    "        self.books.remove(y)\n",
    "    def display(self):\n",
    "        return \"\\n\".join(self.books)\n",
    "class Customer():\n",
    "    def __init__(self):\n",
    "        self.takenb=[]\n",
    "    def borrowb(self,p):\n",
    "        self.takenb.append(p)\n",
    "    def submitb(self,q):\n",
    "        self.takenb.remove(q)\n",
    "g=Library(['python','java','c'])\n",
    "h=Customer()\n",
    "print(\"1.display available books \\n 2.borrow a book \\n 3.submit a book\")\n",
    "cho=int(raw_input(\"enter your choice\"))\n",
    "if(cho==1):\n",
    "    print(g.display())\n",
    "elif(cho==2):\n",
    "    print(g.display())\n",
    "    book=raw_input(\"enter the book name from the above list\")\n",
    "    h.borrowb(book)\n",
    "    g.removeb(book)\n",
    "elif(cho==3):\n",
    "    print(\"\\n\".join(h.takenb))\n",
    "    book=raw_input(\"enter the book from above list\")\n",
    "    h.submitb(book)\n",
    "    g.addb(book)        "
   ]
  },
  {
   "cell_type": "code",
   "execution_count": null,
   "metadata": {
    "collapsed": true
   },
   "outputs": [],
   "source": []
  }
 ],
 "metadata": {
  "kernelspec": {
   "display_name": "Python 2",
   "language": "python",
   "name": "python2"
  },
  "language_info": {
   "codemirror_mode": {
    "name": "ipython",
    "version": 2
   },
   "file_extension": ".py",
   "mimetype": "text/x-python",
   "name": "python",
   "nbconvert_exporter": "python",
   "pygments_lexer": "ipython2",
   "version": "2.7.13"
  }
 },
 "nbformat": 4,
 "nbformat_minor": 2
}
