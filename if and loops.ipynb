{
 "cells": [
  {
   "cell_type": "code",
   "execution_count": 2,
   "metadata": {},
   "outputs": [
    {
     "name": "stdout",
     "output_type": "stream",
     "text": [
      "enter first number15\n",
      "enter second number20\n",
      "enter third number10\n",
      "second number is greater\n"
     ]
    }
   ],
   "source": [
    "#execute a block of statements if condition is true otherwiese check for other alternatives\n",
    "a = int(raw_input(\"enter first number\"))\n",
    "b =  int(raw_input(\"enter second number\"))\n",
    "c = int(raw_input(\"enter third number\"))\n",
    "if a>b and a>c:\n",
    "    print \"first number is greter\"\n",
    "elif b>a and b>c:\n",
    "    print \"second number is greater\"\n",
    "else:\n",
    "    print \"third number is greater\""
   ]
  },
  {
   "cell_type": "code",
   "execution_count": 3,
   "metadata": {},
   "outputs": [
    {
     "name": "stdout",
     "output_type": "stream",
     "text": [
      "enter first number15\n",
      "enter second number20\n",
      "enter third number10\n",
      "second number is greater\n"
     ]
    }
   ],
   "source": [
    "#execute a block of statements if condition is true otherwiese check for other alternatives\n",
    "a = int(raw_input(\"enter first number\"))\n",
    "b =  int(raw_input(\"enter second number\"))\n",
    "c = int(raw_input(\"enter third number\"))\n",
    "if a>b and a>c:\n",
    "    print \"first number is greter\"\n",
    "elif b>c:\n",
    "    print \"second number is greater\"\n",
    "else:\n",
    "    print \"third number is greater\""
   ]
  },
  {
   "cell_type": "code",
   "execution_count": 4,
   "metadata": {
    "collapsed": true
   },
   "outputs": [],
   "source": [
    "#write a program to read four values from console and find the smallest number\n",
    "# Repeat the above program and if any values are equal print you have entered numbers\n",
    "# write a program to read the age from console\n",
    "# if age is not an integer then print you have given an invalid age\n",
    "# if age less than 18 print \"he/she is lucky\"\n",
    "#if age between 18 and 21 \"enjoying the life\"\n",
    "# if age between 21 and 30 \"difficulties has been started\"\n",
    "# if age greater 30 \"understood the life\""
   ]
  },
  {
   "cell_type": "code",
   "execution_count": 5,
   "metadata": {},
   "outputs": [
    {
     "name": "stdout",
     "output_type": "stream",
     "text": [
      "b is greater\n"
     ]
    }
   ],
   "source": [
    "a  = 15\n",
    "b = 20\n",
    "c = 10\n",
    "if a>b:\n",
    "    print \"first if started\"\n",
    "    if a>c:\n",
    "        print \"inside second if\"\n",
    "        print \"a is greater\"\n",
    "    else:\n",
    "        print \"c is greater\"\n",
    "elif b>c:\n",
    "    print \"b is greater\"\n",
    "else:\n",
    "    print \"c is greater\""
   ]
  },
  {
   "cell_type": "code",
   "execution_count": 6,
   "metadata": {},
   "outputs": [
    {
     "name": "stdout",
     "output_type": "stream",
     "text": [
      "0\n",
      "1\n",
      "2\n",
      "3\n",
      "4\n",
      "5\n",
      "6\n",
      "7\n",
      "8\n",
      "9\n",
      "10\n",
      "outside while loop\n"
     ]
    }
   ],
   "source": [
    "#while condition:\n",
    "#    statements\n",
    "a = 11\n",
    "i = 0\n",
    "while i<a:\n",
    "    print i\n",
    "    i += 1\n",
    "print \"outside while loop\""
   ]
  },
  {
   "cell_type": "code",
   "execution_count": null,
   "metadata": {
    "collapsed": true
   },
   "outputs": [],
   "source": [
    "a = 23\n",
    "i=2\n",
    "found = True\n",
    "while i < a:\n",
    "    if a%i == 0:\n",
    "        found = False\n",
    "        \n",
    "if found:\n",
    "    print \"prime number\""
   ]
  },
  {
   "cell_type": "code",
   "execution_count": null,
   "metadata": {
    "collapsed": true
   },
   "outputs": [],
   "source": []
  }
 ],
 "metadata": {
  "kernelspec": {
   "display_name": "Python 2",
   "language": "python",
   "name": "python2"
  },
  "language_info": {
   "codemirror_mode": {
    "name": "ipython",
    "version": 2
   },
   "file_extension": ".py",
   "mimetype": "text/x-python",
   "name": "python",
   "nbconvert_exporter": "python",
   "pygments_lexer": "ipython2",
   "version": "2.7.13"
  }
 },
 "nbformat": 4,
 "nbformat_minor": 2
}
