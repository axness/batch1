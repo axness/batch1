{
 "cells": [
  {
   "cell_type": "code",
   "execution_count": 7,
   "metadata": {
    "collapsed": true
   },
   "outputs": [],
   "source": [
    "import threading"
   ]
  },
  {
   "cell_type": "code",
   "execution_count": 10,
   "metadata": {},
   "outputs": [
    {
     "name": "stdout",
     "output_type": "stream",
     "text": [
      "t1 0\n",
      "t1 1\n",
      "t1 2\n",
      "t1 3\n",
      "t1 4\n",
      "t1 5\n",
      "t1 6\n",
      "t1 7\n",
      "t1 8\n",
      "t1 9\n",
      "t2 0\n",
      "t2 1\n",
      "t2 2\n",
      "t2 3\n",
      "t2 4\n",
      "t2 5\n",
      "t2 6\n",
      "t2 7\n",
      "t2 8\n",
      "t2 9\n",
      "0.00300002098083\n"
     ]
    }
   ],
   "source": [
    "def myfun(var):\n",
    "    for x in range(10):\n",
    "        print var, x\n",
    "#t1 = threading.Thread(target=myfun)\n",
    "#t2 = threading.Thread(target=myfun)\n",
    "import time\n",
    "ti1 = time.time()\n",
    "myfun('t1')\n",
    "myfun('t2')\n",
    "print time.time()-ti1"
   ]
  },
  {
   "cell_type": "code",
   "execution_count": 11,
   "metadata": {},
   "outputs": [
    {
     "name": "stdout",
     "output_type": "stream",
     "text": [
      "t1\n",
      "t1\n",
      "<function myfun at 0x03872F30>\n",
      "0.0249998569489\n"
     ]
    },
    {
     "name": "stderr",
     "output_type": "stream",
     "text": [
      "Exception in thread Thread-12:\n",
      "Traceback (most recent call last):\n",
      "  File \"c:\\python27\\lib\\threading.py\", line 803, in __bootstrap_inner\n",
      "    try:\n",
      "  File \"c:\\python27\\lib\\threading.py\", line 756, in run\n",
      "    #print *self.__args, self.__kwargs\n",
      "TypeError: myfun() takes exactly 1 argument (2 given)\n",
      "\n"
     ]
    }
   ],
   "source": [
    "ti1 = time.time()\n",
    "t1 = threading.Thread(target=myfun, args='t1',)\n",
    "print t1._Thread__args\n",
    "t2 = threading.Thread(target=myfun, args='t2',)\n",
    "#import pdb;pdb.set_trace()\n",
    "t1.start()\n",
    "#t2.start()\n",
    "print time.time()-ti1"
   ]
  },
  {
   "cell_type": "code",
   "execution_count": null,
   "metadata": {
    "collapsed": true
   },
   "outputs": [],
   "source": []
  }
 ],
 "metadata": {
  "kernelspec": {
   "display_name": "Python 2",
   "language": "python",
   "name": "python2"
  },
  "language_info": {
   "codemirror_mode": {
    "name": "ipython",
    "version": 2
   },
   "file_extension": ".py",
   "mimetype": "text/x-python",
   "name": "python",
   "nbconvert_exporter": "python",
   "pygments_lexer": "ipython2",
   "version": "2.7.13"
  }
 },
 "nbformat": 4,
 "nbformat_minor": 2
}
