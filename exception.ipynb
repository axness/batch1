{
 "cells": [
  {
   "cell_type": "code",
   "execution_count": 2,
   "metadata": {},
   "outputs": [
    {
     "name": "stdout",
     "output_type": "stream",
     "text": [
      "enter a number5\n",
      "enter a second number10\n",
      "0\n"
     ]
    }
   ],
   "source": [
    "try:\n",
    "    a = int(raw_input(\"enter a number\"))\n",
    "    b = int(raw_input(\"enter a second number\"))\n",
    "    print a/b\n",
    "except:\n",
    "    print \"denominatoir is zero\""
   ]
  },
  {
   "cell_type": "code",
   "execution_count": 7,
   "metadata": {},
   "outputs": [
    {
     "name": "stdout",
     "output_type": "stream",
     "text": [
      "enter a number5.0\n",
      "enter a second number10.5\n",
      "0.47619047619\n"
     ]
    }
   ],
   "source": [
    "\n",
    "a = float(raw_input(\"enter a number\"))\n",
    "b = float(raw_input(\"enter a second number\"))\n",
    "try:\n",
    "    print a/b\n",
    "except:\n",
    "    print \"denominatoir is zero\""
   ]
  },
  {
   "cell_type": "markdown",
   "metadata": {},
   "source": [
    "\n",
    "a = float(raw_input(\"enter a number\"))\n",
    "b = float(raw_input(\"enter a second number\"))\n",
    "try:\n",
    "    print a/b\n",
    "except:\n",
    "    print \"denominatoir is zero\""
   ]
  },
  {
   "cell_type": "code",
   "execution_count": 8,
   "metadata": {},
   "outputs": [
    {
     "name": "stdout",
     "output_type": "stream",
     "text": [
      "enter a number5.0\n",
      "enter a second numberpython\n"
     ]
    },
    {
     "ename": "ValueError",
     "evalue": "could not convert string to float: python",
     "output_type": "error",
     "traceback": [
      "\u001b[1;31m---------------------------------------------------------------------------\u001b[0m",
      "\u001b[1;31mValueError\u001b[0m                                Traceback (most recent call last)",
      "\u001b[1;32m<ipython-input-8-07d2b406aab9>\u001b[0m in \u001b[0;36m<module>\u001b[1;34m()\u001b[0m\n\u001b[0;32m      1\u001b[0m \u001b[1;33m\u001b[0m\u001b[0m\n\u001b[0;32m      2\u001b[0m \u001b[0ma\u001b[0m \u001b[1;33m=\u001b[0m \u001b[0mfloat\u001b[0m\u001b[1;33m(\u001b[0m\u001b[0mraw_input\u001b[0m\u001b[1;33m(\u001b[0m\u001b[1;34m\"enter a number\"\u001b[0m\u001b[1;33m)\u001b[0m\u001b[1;33m)\u001b[0m\u001b[1;33m\u001b[0m\u001b[0m\n\u001b[1;32m----> 3\u001b[1;33m \u001b[0mb\u001b[0m \u001b[1;33m=\u001b[0m \u001b[0mfloat\u001b[0m\u001b[1;33m(\u001b[0m\u001b[0mraw_input\u001b[0m\u001b[1;33m(\u001b[0m\u001b[1;34m\"enter a second number\"\u001b[0m\u001b[1;33m)\u001b[0m\u001b[1;33m)\u001b[0m\u001b[1;33m\u001b[0m\u001b[0m\n\u001b[0m\u001b[0;32m      4\u001b[0m \u001b[1;32mtry\u001b[0m\u001b[1;33m:\u001b[0m\u001b[1;33m\u001b[0m\u001b[0m\n\u001b[0;32m      5\u001b[0m     \u001b[1;32mprint\u001b[0m \u001b[0ma\u001b[0m\u001b[1;33m/\u001b[0m\u001b[0mb\u001b[0m\u001b[1;33m\u001b[0m\u001b[0m\n",
      "\u001b[1;31mValueError\u001b[0m: could not convert string to float: python"
     ]
    }
   ],
   "source": [
    "\n",
    "a = float(raw_input(\"enter a number\"))\n",
    "b = float(raw_input(\"enter a second number\"))\n",
    "try:\n",
    "    print a/b\n",
    "except:\n",
    "    print \"denominatoir is zero\""
   ]
  },
  {
   "cell_type": "code",
   "execution_count": 9,
   "metadata": {},
   "outputs": [
    {
     "name": "stdout",
     "output_type": "stream",
     "text": [
      "enter a number5.0\n",
      "enter a second numberpython\n",
      "denominatoir is zero\n"
     ]
    }
   ],
   "source": [
    "try:\n",
    "    a = float(raw_input(\"enter a number\"))\n",
    "    b = float(raw_input(\"enter a second number\"))\n",
    "    print a/b\n",
    "except:\n",
    "    print \"denominatoir is zero\""
   ]
  },
  {
   "cell_type": "code",
   "execution_count": 10,
   "metadata": {},
   "outputs": [
    {
     "name": "stdout",
     "output_type": "stream",
     "text": [
      "enter a number5.0\n",
      "enter a second numberpython\n",
      "denominatoir is zero\n"
     ]
    }
   ],
   "source": [
    "try:\n",
    "    a = float(raw_input(\"enter a number\"))\n",
    "    b = float(raw_input(\"enter a second number\"))\n",
    "    print a/b\n",
    "except Exception :\n",
    "    print \"denominatoir is zero\""
   ]
  },
  {
   "cell_type": "code",
   "execution_count": 11,
   "metadata": {},
   "outputs": [
    {
     "name": "stdout",
     "output_type": "stream",
     "text": [
      "enter a number5.0 \n",
      "enter a second numberpython\n",
      "could not convert string to float: python\n",
      "denominatoir is zero\n"
     ]
    }
   ],
   "source": [
    "try:\n",
    "    a = float(raw_input(\"enter a number\"))\n",
    "    b = float(raw_input(\"enter a second number\"))\n",
    "    print a/b\n",
    "except Exception as msg:\n",
    "    print msg\n",
    "    print \"denominatoir is zero\""
   ]
  },
  {
   "cell_type": "code",
   "execution_count": 12,
   "metadata": {},
   "outputs": [
    {
     "name": "stdout",
     "output_type": "stream",
     "text": [
      "enter a number5.0\n",
      "enter a second numberpython\n",
      "could not convert string to float: python\n",
      "you have entered string\n"
     ]
    }
   ],
   "source": [
    "try:\n",
    "    a = float(raw_input(\"enter a number\"))\n",
    "    b = float(raw_input(\"enter a second number\"))\n",
    "    print a/b\n",
    "except ValueError as msg:\n",
    "    print msg\n",
    "    print \"you have entered string\""
   ]
  },
  {
   "cell_type": "code",
   "execution_count": 13,
   "metadata": {},
   "outputs": [
    {
     "name": "stdout",
     "output_type": "stream",
     "text": [
      "enter a number5\n",
      "enter a second number0\n"
     ]
    },
    {
     "ename": "ZeroDivisionError",
     "evalue": "float division by zero",
     "output_type": "error",
     "traceback": [
      "\u001b[1;31m---------------------------------------------------------------------------\u001b[0m",
      "\u001b[1;31mZeroDivisionError\u001b[0m                         Traceback (most recent call last)",
      "\u001b[1;32m<ipython-input-13-d535c3aa84be>\u001b[0m in \u001b[0;36m<module>\u001b[1;34m()\u001b[0m\n\u001b[0;32m      2\u001b[0m     \u001b[0ma\u001b[0m \u001b[1;33m=\u001b[0m \u001b[0mfloat\u001b[0m\u001b[1;33m(\u001b[0m\u001b[0mraw_input\u001b[0m\u001b[1;33m(\u001b[0m\u001b[1;34m\"enter a number\"\u001b[0m\u001b[1;33m)\u001b[0m\u001b[1;33m)\u001b[0m\u001b[1;33m\u001b[0m\u001b[0m\n\u001b[0;32m      3\u001b[0m     \u001b[0mb\u001b[0m \u001b[1;33m=\u001b[0m \u001b[0mfloat\u001b[0m\u001b[1;33m(\u001b[0m\u001b[0mraw_input\u001b[0m\u001b[1;33m(\u001b[0m\u001b[1;34m\"enter a second number\"\u001b[0m\u001b[1;33m)\u001b[0m\u001b[1;33m)\u001b[0m\u001b[1;33m\u001b[0m\u001b[0m\n\u001b[1;32m----> 4\u001b[1;33m     \u001b[1;32mprint\u001b[0m \u001b[0ma\u001b[0m\u001b[1;33m/\u001b[0m\u001b[0mb\u001b[0m\u001b[1;33m\u001b[0m\u001b[0m\n\u001b[0m\u001b[0;32m      5\u001b[0m \u001b[1;32mexcept\u001b[0m \u001b[0mValueError\u001b[0m \u001b[1;32mas\u001b[0m \u001b[0mmsg\u001b[0m\u001b[1;33m:\u001b[0m\u001b[1;33m\u001b[0m\u001b[0m\n\u001b[0;32m      6\u001b[0m     \u001b[1;32mprint\u001b[0m \u001b[0mmsg\u001b[0m\u001b[1;33m\u001b[0m\u001b[0m\n",
      "\u001b[1;31mZeroDivisionError\u001b[0m: float division by zero"
     ]
    }
   ],
   "source": [
    "try:\n",
    "    a = float(raw_input(\"enter a number\"))\n",
    "    b = float(raw_input(\"enter a second number\"))\n",
    "    print a/b\n",
    "except ValueError as msg:\n",
    "    print msg\n",
    "    print \"you have entered string\""
   ]
  },
  {
   "cell_type": "code",
   "execution_count": 14,
   "metadata": {},
   "outputs": [
    {
     "name": "stdout",
     "output_type": "stream",
     "text": [
      "enter a number10\n",
      "enter a second number0\n",
      "float division by zero\n"
     ]
    }
   ],
   "source": [
    "try:\n",
    "    a = float(raw_input(\"enter a number\"))\n",
    "    b = float(raw_input(\"enter a second number\"))\n",
    "    print a/b\n",
    "except ValueError as msg:\n",
    "    print msg\n",
    "    print \"you have entered string\"\n",
    "except ZeroDivisionError as e:\n",
    "    print e\n",
    "    "
   ]
  },
  {
   "cell_type": "code",
   "execution_count": 15,
   "metadata": {},
   "outputs": [
    {
     "name": "stdout",
     "output_type": "stream",
     "text": [
      "enter a number5\n",
      "enter a second number0\n",
      "float division by zero\n",
      "you have entered string\n"
     ]
    }
   ],
   "source": [
    "try:\n",
    "    a = float(raw_input(\"enter a number\"))\n",
    "    b = float(raw_input(\"enter a second number\"))\n",
    "    print a/b\n",
    "except Exception as msg:\n",
    "    print msg\n",
    "    print \"you have entered string\"\n",
    "except ZeroDivisionError as e:\n",
    "    print e\n",
    "    "
   ]
  },
  {
   "cell_type": "code",
   "execution_count": 16,
   "metadata": {},
   "outputs": [
    {
     "name": "stdout",
     "output_type": "stream",
     "text": [
      "enter a number5\n",
      "enter a second numberpythonb\n",
      "could not convert string to float: pythonb\n",
      "you have entered string\n"
     ]
    }
   ],
   "source": [
    "try:\n",
    "    a = float(raw_input(\"enter a number\"))\n",
    "    b = float(raw_input(\"enter a second number\"))\n",
    "    print a/b\n",
    "    raise\n",
    "except ValueError as msg:\n",
    "    print msg\n",
    "    print \"you have entered string\"\n",
    "except ZeroDivisionError as e:\n",
    "    print e\n",
    "except Exception as e:\n",
    "    print \"some thing wrong\"\n",
    "    "
   ]
  },
  {
   "cell_type": "code",
   "execution_count": 17,
   "metadata": {},
   "outputs": [
    {
     "name": "stdout",
     "output_type": "stream",
     "text": [
      "enter a number5\n",
      "enter a second number0\n",
      "float division by zero\n"
     ]
    }
   ],
   "source": [
    "try:\n",
    "    a = float(raw_input(\"enter a number\"))\n",
    "    b = float(raw_input(\"enter a second number\"))\n",
    "    print a/b\n",
    "    raise\n",
    "except ValueError as msg:\n",
    "    print msg\n",
    "    print \"you have entered string\"\n",
    "except ZeroDivisionError as e:\n",
    "    print e\n",
    "except Exception as e:\n",
    "    print \"some thing wrong\"\n",
    "    "
   ]
  },
  {
   "cell_type": "code",
   "execution_count": 18,
   "metadata": {},
   "outputs": [
    {
     "name": "stdout",
     "output_type": "stream",
     "text": [
      "enter a number10\n",
      "enter a second number5\n",
      "2.0\n",
      "some thing wrong\n"
     ]
    }
   ],
   "source": [
    "try:\n",
    "    a = float(raw_input(\"enter a number\"))\n",
    "    b = float(raw_input(\"enter a second number\"))\n",
    "    print a/b\n",
    "    raise\n",
    "except ValueError as msg:\n",
    "    print msg\n",
    "    print \"you have entered string\"\n",
    "except ZeroDivisionError as e:\n",
    "    print e\n",
    "except Exception as e:\n",
    "    print \"some thing wrong\"\n",
    "    "
   ]
  },
  {
   "cell_type": "code",
   "execution_count": 19,
   "metadata": {},
   "outputs": [
    {
     "name": "stdout",
     "output_type": "stream",
     "text": [
      "enter a numbernag\n",
      "you have entered string values please enter numbers\n",
      "enter a number5\n",
      "enter second number10\n",
      "0.5\n"
     ]
    }
   ],
   "source": [
    "try:\n",
    "    a = float(raw_input(\"enter a number\"))\n",
    "    b = float(raw_input(\"enter a second number\"))\n",
    "    print a/b\n",
    "    raise\n",
    "except ValueError as msg:\n",
    "    #print msg\n",
    "    print \"you have entered string values please enter numbers\"\n",
    "    a = float(raw_input(\"enter a number\"))\n",
    "    b = float(raw_input(\"enter second number\"))\n",
    "    print a/b    \n",
    "except ZeroDivisionError as e:\n",
    "    print \"you have denominator zero, please enter a valid number\"\n",
    "    b = float(raw_input(\"enter denom again\"))\n",
    "    print a/b\n",
    "    "
   ]
  },
  {
   "cell_type": "code",
   "execution_count": 20,
   "metadata": {},
   "outputs": [
    {
     "name": "stdout",
     "output_type": "stream",
     "text": [
      "enter a number10\n",
      "enter a second number0\n",
      "you have denominator zero, please enter a valid number\n",
      "enter denom again10\n",
      "1.0\n"
     ]
    }
   ],
   "source": [
    "try:\n",
    "    a = float(raw_input(\"enter a number\"))\n",
    "    b = float(raw_input(\"enter a second number\"))\n",
    "    print a/b\n",
    "    raise\n",
    "except ValueError as msg:\n",
    "    #print msg\n",
    "    print \"you have entered string values please enter numbers\"\n",
    "    a = float(raw_input(\"enter a number\"))\n",
    "    b = float(raw_input(\"enter second number\"))\n",
    "    print a/b    \n",
    "except ZeroDivisionError as e:\n",
    "    print \"you have denominator zero, please enter a valid number\"\n",
    "    b = float(raw_input(\"enter denom again\"))\n",
    "    print a/b\n",
    "    "
   ]
  },
  {
   "cell_type": "code",
   "execution_count": 1,
   "metadata": {},
   "outputs": [
    {
     "name": "stdout",
     "output_type": "stream",
     "text": [
      "enter a number5\n",
      "enter a second number0\n",
      "you have denominator zero, please enter a valid number\n",
      "enter denom again10\n",
      "0.5\n"
     ]
    }
   ],
   "source": [
    "try:\n",
    "    a = float(raw_input(\"enter a number\"))\n",
    "    b = float(raw_input(\"enter a second number\"))\n",
    "    if b == 0.0:\n",
    "        raise ZeroDivisionError(\"denominator is zero\")\n",
    "except ValueError as msg:\n",
    "    #print msg\n",
    "    print \"you have entered string values please enter numbers\"\n",
    "    a = float(raw_input(\"enter a number\"))\n",
    "    b = float(raw_input(\"enter second number\"))  \n",
    "except ZeroDivisionError as e:\n",
    "    print \"you have denominator zero, please enter a valid number\"\n",
    "    b = float(raw_input(\"enter denom again\"))\n",
    "finally:\n",
    "    print a/b\n",
    "    "
   ]
  },
  {
   "cell_type": "code",
   "execution_count": 3,
   "metadata": {},
   "outputs": [
    {
     "name": "stdout",
     "output_type": "stream",
     "text": [
      "unable to read the file\n",
      "closing file\n",
      "True\n"
     ]
    }
   ],
   "source": [
    "try:\n",
    "    f = open('sample.txt', 'r')\n",
    "    data = f.readlines()\n",
    "    map(int, data[1].split())\n",
    "except:\n",
    "    print \"unable to read the file\"\n",
    "    print \"closing file\"\n",
    "    f.close()\n",
    "    print f.closed\n",
    "    "
   ]
  },
  {
   "cell_type": "code",
   "execution_count": 4,
   "metadata": {
    "collapsed": true
   },
   "outputs": [],
   "source": [
    "try:\n",
    "    f = open('sample.txt', 'r')\n",
    "    data = f.readlines()\n",
    "    map(int, data[1].split())\n",
    "except:\n",
    "    print \"unable to read the file\"\n",
    "    print \"closing file\"\n",
    "    f.close()\n",
    "    print f.closed\n",
    "    "
   ]
  },
  {
   "cell_type": "code",
   "execution_count": 6,
   "metadata": {},
   "outputs": [
    {
     "name": "stdout",
     "output_type": "stream",
     "text": [
      "unable to read the file\n",
      "closing file\n",
      "True\n"
     ]
    }
   ],
   "source": [
    "try:\n",
    "    f = open('sample.txt', 'r')\n",
    "    data = f.readlines()\n",
    "    map(int, data[1].split())\n",
    "except:\n",
    "    print \"unable to read the file\"\n",
    "finally:\n",
    "    print \"closing file\"\n",
    "    f.close()\n",
    "    print f.closed\n",
    "    "
   ]
  },
  {
   "cell_type": "code",
   "execution_count": 7,
   "metadata": {},
   "outputs": [
    {
     "name": "stdout",
     "output_type": "stream",
     "text": [
      "unable to read the file\n",
      "closing file\n",
      "True\n"
     ]
    }
   ],
   "source": [
    "try:\n",
    "    f = open('sample.txt', 'r')\n",
    "    data = f.readlines()\n",
    "    map(int, data[1].split())\n",
    "    return\n",
    "except:\n",
    "    print \"unable to read the file\"\n",
    "    return \n",
    "print \"closing file\"\n",
    "f.close()\n",
    "print f.closed\n",
    "    "
   ]
  },
  {
   "cell_type": "code",
   "execution_count": 8,
   "metadata": {},
   "outputs": [
    {
     "name": "stdout",
     "output_type": "stream",
     "text": [
      "10\n"
     ]
    }
   ],
   "source": [
    "def myfun():\n",
    "    try:\n",
    "        return 10\n",
    "    except:\n",
    "        return 20\n",
    "    return 30\n",
    "print myfun()"
   ]
  },
  {
   "cell_type": "code",
   "execution_count": 9,
   "metadata": {},
   "outputs": [
    {
     "name": "stdout",
     "output_type": "stream",
     "text": [
      "20\n"
     ]
    }
   ],
   "source": [
    "def myfun():\n",
    "    try:\n",
    "        1/0\n",
    "        return 10\n",
    "    except:\n",
    "        return 20\n",
    "    return 30\n",
    "print myfun()"
   ]
  },
  {
   "cell_type": "code",
   "execution_count": 10,
   "metadata": {},
   "outputs": [
    {
     "name": "stdout",
     "output_type": "stream",
     "text": [
      "30\n"
     ]
    }
   ],
   "source": [
    "def myfun():\n",
    "    try:\n",
    "        return 10\n",
    "    except:\n",
    "        return 20\n",
    "    finally:\n",
    "        return 30\n",
    "print myfun()"
   ]
  },
  {
   "cell_type": "code",
   "execution_count": 11,
   "metadata": {},
   "outputs": [
    {
     "name": "stdout",
     "output_type": "stream",
     "text": [
      "30\n"
     ]
    }
   ],
   "source": [
    "def myfun():\n",
    "    try:\n",
    "        1/0\n",
    "        return 10\n",
    "    except:\n",
    "        return 20\n",
    "    finally:\n",
    "        return 30\n",
    "print myfun()"
   ]
  },
  {
   "cell_type": "code",
   "execution_count": 12,
   "metadata": {},
   "outputs": [
    {
     "ename": "SyntaxError",
     "evalue": "invalid syntax (<ipython-input-12-7e332ceb3383>, line 2)",
     "output_type": "error",
     "traceback": [
      "\u001b[1;36m  File \u001b[1;32m\"<ipython-input-12-7e332ceb3383>\"\u001b[1;36m, line \u001b[1;32m2\u001b[0m\n\u001b[1;33m    print \"this is python\"\u001b[0m\n\u001b[1;37m                          ^\u001b[0m\n\u001b[1;31mSyntaxError\u001b[0m\u001b[1;31m:\u001b[0m invalid syntax\n"
     ]
    }
   ],
   "source": [
    "try:\n",
    "    print \"this is python\""
   ]
  },
  {
   "cell_type": "code",
   "execution_count": 13,
   "metadata": {},
   "outputs": [
    {
     "name": "stdout",
     "output_type": "stream",
     "text": [
      "this is python\n",
      "finally block\n"
     ]
    }
   ],
   "source": [
    "try:\n",
    "    print \"this is python\"\n",
    "finally:\n",
    "    print \"finally block\""
   ]
  },
  {
   "cell_type": "code",
   "execution_count": 14,
   "metadata": {},
   "outputs": [
    {
     "name": "stdout",
     "output_type": "stream",
     "text": [
      "finally block\n"
     ]
    },
    {
     "ename": "ZeroDivisionError",
     "evalue": "integer division or modulo by zero",
     "output_type": "error",
     "traceback": [
      "\u001b[1;31m---------------------------------------------------------------------------\u001b[0m",
      "\u001b[1;31mZeroDivisionError\u001b[0m                         Traceback (most recent call last)",
      "\u001b[1;32m<ipython-input-14-d2a73f7e9150>\u001b[0m in \u001b[0;36m<module>\u001b[1;34m()\u001b[0m\n\u001b[0;32m      1\u001b[0m \u001b[1;32mtry\u001b[0m\u001b[1;33m:\u001b[0m\u001b[1;33m\u001b[0m\u001b[0m\n\u001b[1;32m----> 2\u001b[1;33m     \u001b[1;36m1\u001b[0m\u001b[1;33m/\u001b[0m\u001b[1;36m0\u001b[0m\u001b[1;33m\u001b[0m\u001b[0m\n\u001b[0m\u001b[0;32m      3\u001b[0m     \u001b[1;32mprint\u001b[0m \u001b[1;34m\"this is python\"\u001b[0m\u001b[1;33m\u001b[0m\u001b[0m\n\u001b[0;32m      4\u001b[0m \u001b[1;32mfinally\u001b[0m\u001b[1;33m:\u001b[0m\u001b[1;33m\u001b[0m\u001b[0m\n\u001b[0;32m      5\u001b[0m     \u001b[1;32mprint\u001b[0m \u001b[1;34m\"finally block\"\u001b[0m\u001b[1;33m\u001b[0m\u001b[0m\n",
      "\u001b[1;31mZeroDivisionError\u001b[0m: integer division or modulo by zero"
     ]
    }
   ],
   "source": [
    "try:\n",
    "    1/0\n",
    "    print \"this is python\"\n",
    "finally:\n",
    "    print \"finally block\""
   ]
  },
  {
   "cell_type": "code",
   "execution_count": 16,
   "metadata": {},
   "outputs": [
    {
     "name": "stdout",
     "output_type": "stream",
     "text": [
      "enter usernamenag\n"
     ]
    },
    {
     "ename": "InvalidUserError",
     "evalue": "in valid username",
     "output_type": "error",
     "traceback": [
      "\u001b[1;31m---------------------------------------------------------------------------\u001b[0m",
      "\u001b[1;31mInvalidUserError\u001b[0m                          Traceback (most recent call last)",
      "\u001b[1;32m<ipython-input-16-5780523a45b3>\u001b[0m in \u001b[0;36m<module>\u001b[1;34m()\u001b[0m\n\u001b[0;32m      5\u001b[0m         \u001b[0mself\u001b[0m\u001b[1;33m.\u001b[0m\u001b[0mmsg\u001b[0m \u001b[1;33m=\u001b[0m\u001b[0mmsg\u001b[0m\u001b[1;33m\u001b[0m\u001b[0m\n\u001b[0;32m      6\u001b[0m \u001b[1;32mif\u001b[0m \u001b[0musername\u001b[0m \u001b[1;33m==\u001b[0m \u001b[1;34m\"nag\"\u001b[0m\u001b[1;33m:\u001b[0m\u001b[1;33m\u001b[0m\u001b[0m\n\u001b[1;32m----> 7\u001b[1;33m     \u001b[1;32mraise\u001b[0m \u001b[0mInvalidUserError\u001b[0m\u001b[1;33m(\u001b[0m\u001b[1;34m\"in valid username\"\u001b[0m\u001b[1;33m)\u001b[0m\u001b[1;33m\u001b[0m\u001b[0m\n\u001b[0m",
      "\u001b[1;31mInvalidUserError\u001b[0m: in valid username"
     ]
    }
   ],
   "source": [
    "username = raw_input(\"enter username\")\n",
    "class InvalidUserError(Exception):\n",
    "    def __init__(self, msg):\n",
    "        super(InvalidUserError, self).__init__(msg)\n",
    "        self.msg =msg\n",
    "if username == \"nag\":\n",
    "    raise InvalidUserError(\"in valid username\")"
   ]
  },
  {
   "cell_type": "code",
   "execution_count": 17,
   "metadata": {},
   "outputs": [
    {
     "name": "stdout",
     "output_type": "stream",
     "text": [
      "enter usernamenag\n",
      "in valid username\n"
     ]
    }
   ],
   "source": [
    "username = raw_input(\"enter username\")\n",
    "class InvalidUserError(Exception):\n",
    "    def __init__(self, msg):\n",
    "        super(InvalidUserError, self).__init__(msg)\n",
    "        self.msg =msg\n",
    "try:\n",
    "    if username == \"nag\":\n",
    "        raise InvalidUserError(\"in valid username\")\n",
    "except Exception as e:\n",
    "    print e"
   ]
  },
  {
   "cell_type": "code",
   "execution_count": 18,
   "metadata": {},
   "outputs": [
    {
     "name": "stdout",
     "output_type": "stream",
     "text": [
      "enter usernamenag\n",
      "in valid username\n"
     ]
    }
   ],
   "source": [
    "username = raw_input(\"enter username\")\n",
    "class InvalidUserError(Exception):\n",
    "    def __init__(self, msg):\n",
    "        super(InvalidUserError, self).__init__(msg)\n",
    "        self.msg =msg\n",
    "try:\n",
    "    if username == \"nag\":\n",
    "        raise InvalidUserError(\"in valid username\")\n",
    "except InvalidUserError as e:\n",
    "    print e"
   ]
  },
  {
   "cell_type": "code",
   "execution_count": null,
   "metadata": {
    "collapsed": true
   },
   "outputs": [],
   "source": []
  }
 ],
 "metadata": {
  "kernelspec": {
   "display_name": "Python 2",
   "language": "python",
   "name": "python2"
  },
  "language_info": {
   "codemirror_mode": {
    "name": "ipython",
    "version": 2
   },
   "file_extension": ".py",
   "mimetype": "text/x-python",
   "name": "python",
   "nbconvert_exporter": "python",
   "pygments_lexer": "ipython2",
   "version": "2.7.13"
  }
 },
 "nbformat": 4,
 "nbformat_minor": 2
}
