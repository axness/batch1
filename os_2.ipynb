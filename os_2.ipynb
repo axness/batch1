{
 "cells": [
  {
   "cell_type": "code",
   "execution_count": 1,
   "metadata": {
    "collapsed": true
   },
   "outputs": [],
   "source": [
    "import os\n",
    "os.chdir(r\"D:\\training\\axness\")"
   ]
  },
  {
   "cell_type": "code",
   "execution_count": 2,
   "metadata": {},
   "outputs": [
    {
     "name": "stdout",
     "output_type": "stream",
     "text": [
      "D:\\training\\axness\n"
     ]
    }
   ],
   "source": [
    "print os.getcwd()"
   ]
  },
  {
   "cell_type": "code",
   "execution_count": 4,
   "metadata": {},
   "outputs": [
    {
     "name": "stdout",
     "output_type": "stream",
     "text": [
      "['D:\\\\training\\\\axness\\\\batch\\\\arth_int.py', 'D:\\\\training\\\\axness\\\\batch\\\\assign_int.py', 'D:\\\\training\\\\axness\\\\batch\\\\bit_int.py', 'D:\\\\training\\\\axness\\\\batch\\\\datatype.py', 'D:\\\\training\\\\axness\\\\batch\\\\firstprogram.py', 'D:\\\\training\\\\axness\\\\batch\\\\identiy_int.py', 'D:\\\\training\\\\axness\\\\batch\\\\if_int.py', 'D:\\\\training\\\\axness\\\\batch\\\\logical_bool_int.py', 'D:\\\\training\\\\axness\\\\batch\\\\rel_int.py', 'D:\\\\training\\\\axness\\\\batch\\\\var.py', 'D:\\\\training\\\\axness\\\\batch1\\\\arth.py', 'D:\\\\training\\\\axness\\\\batch1\\\\arth_int.py', 'D:\\\\training\\\\axness\\\\batch1\\\\assign_int.py', 'D:\\\\training\\\\axness\\\\batch1\\\\bit_int.py', 'D:\\\\training\\\\axness\\\\batch1\\\\call_arth.py', 'D:\\\\training\\\\axness\\\\batch1\\\\datatype.py', 'D:\\\\training\\\\axness\\\\batch1\\\\firstprogram.py', 'D:\\\\training\\\\axness\\\\batch1\\\\identiy_int.py', 'D:\\\\training\\\\axness\\\\batch1\\\\if_int.py', 'D:\\\\training\\\\axness\\\\batch1\\\\logical_bool_int.py', 'D:\\\\training\\\\axness\\\\batch1\\\\rel_int.py', 'D:\\\\training\\\\axness\\\\batch1\\\\var.py', 'D:\\\\training\\\\axness\\\\batch1\\\\mypackage\\\\file1.py', 'D:\\\\training\\\\axness\\\\batch1\\\\mypackage\\\\file2.py', 'D:\\\\training\\\\axness\\\\batch1\\\\mypackage\\\\__init__.py', 'D:\\\\training\\\\axness\\\\batch1\\\\pythonbatch\\\\Pythonbatch\\\\arm.py']\n"
     ]
    }
   ],
   "source": [
    "print [fo_list[0]+\"\\\\\"+file_name for fo_list in os.walk(r\"D:\\training\\axness\") for file_name in fo_list[2] if file_name.endswith(r\".py\")]"
   ]
  },
  {
   "cell_type": "code",
   "execution_count": 6,
   "metadata": {},
   "outputs": [],
   "source": [
    " c = [os.path.join(fo_list[0],file_name) for fo_list in os.walk(r\"D:\\training\\axness\") for file_name in fo_list[2] if file_name.endswith(r\".py\")]"
   ]
  },
  {
   "cell_type": "code",
   "execution_count": 7,
   "metadata": {},
   "outputs": [
    {
     "name": "stdout",
     "output_type": "stream",
     "text": [
      "set(['D:\\\\training\\\\axness\\\\batch', 'D:\\\\training\\\\axness\\\\batch1\\\\pythonbatch\\\\Pythonbatch', 'D:\\\\training\\\\axness\\\\batch1\\\\mypackage', 'D:\\\\training\\\\axness\\\\batch1'])\n"
     ]
    }
   ],
   "source": [
    "print set([os.path.dirname(file_name) for file_name in c])"
   ]
  },
  {
   "cell_type": "code",
   "execution_count": 8,
   "metadata": {},
   "outputs": [
    {
     "name": "stdout",
     "output_type": "stream",
     "text": [
      "set(['rel_int.py', 'logical_bool_int.py', 'firstprogram.py', 'identiy_int.py', '__init__.py', 'arth.py', 'bit_int.py', 'assign_int.py', 'file1.py', 'file2.py', 'call_arth.py', 'var.py', 'arm.py', 'datatype.py', 'arth_int.py', 'if_int.py'])\n"
     ]
    }
   ],
   "source": [
    "print set([os.path.basename(file_name) for file_name in c])"
   ]
  },
  {
   "cell_type": "code",
   "execution_count": 10,
   "metadata": {},
   "outputs": [],
   "source": [
    "batch1_list = [ file_name for file_name in c if file_name.find('batch1') != -1]"
   ]
  },
  {
   "cell_type": "code",
   "execution_count": 12,
   "metadata": {},
   "outputs": [
    {
     "name": "stdout",
     "output_type": "stream",
     "text": [
      "[('D:\\\\training\\\\axness\\\\batch1\\\\arth.py', False), ('D:\\\\training\\\\axness\\\\batch1\\\\arth_int.py', False), ('D:\\\\training\\\\axness\\\\batch1\\\\assign_int.py', False), ('D:\\\\training\\\\axness\\\\batch1\\\\bit_int.py', False), ('D:\\\\training\\\\axness\\\\batch1\\\\call_arth.py', False), ('D:\\\\training\\\\axness\\\\batch1\\\\datatype.py', False), ('D:\\\\training\\\\axness\\\\batch1\\\\firstprogram.py', False), ('D:\\\\training\\\\axness\\\\batch1\\\\identiy_int.py', False), ('D:\\\\training\\\\axness\\\\batch1\\\\if_int.py', False), ('D:\\\\training\\\\axness\\\\batch1\\\\logical_bool_int.py', False), ('D:\\\\training\\\\axness\\\\batch1\\\\rel_int.py', False), ('D:\\\\training\\\\axness\\\\batch1\\\\var.py', False), ('D:\\\\training\\\\axness\\\\batch1\\\\mypackage\\\\file1.py', False), ('D:\\\\training\\\\axness\\\\batch1\\\\mypackage\\\\file2.py', False), ('D:\\\\training\\\\axness\\\\batch1\\\\mypackage\\\\__init__.py', False), ('D:\\\\training\\\\axness\\\\batch1\\\\pythonbatch\\\\Pythonbatch\\\\arm.py', False)]\n"
     ]
    }
   ],
   "source": [
    "print [(file_name,os.path.isdir(file_name)) for file_name in batch1_list]"
   ]
  },
  {
   "cell_type": "code",
   "execution_count": 13,
   "metadata": {},
   "outputs": [
    {
     "name": "stdout",
     "output_type": "stream",
     "text": [
      "True\n"
     ]
    }
   ],
   "source": [
    "print os.path.isdir(r\"D:\\training\\axness\")"
   ]
  },
  {
   "cell_type": "code",
   "execution_count": 14,
   "metadata": {},
   "outputs": [
    {
     "name": "stdout",
     "output_type": "stream",
     "text": [
      "False\n"
     ]
    }
   ],
   "source": [
    "print os.path.isfile(r\"D:\\training\\axness\")"
   ]
  },
  {
   "cell_type": "code",
   "execution_count": 15,
   "metadata": {},
   "outputs": [
    {
     "name": "stdout",
     "output_type": "stream",
     "text": [
      "['__all__', '__builtins__', '__doc__', '__file__', '__name__', '__package__', '_abspath_split', '_getfullpathname', '_unicode', 'abspath', 'altsep', 'basename', 'commonprefix', 'curdir', 'defpath', 'devnull', 'dirname', 'exists', 'expanduser', 'expandvars', 'extsep', 'genericpath', 'getatime', 'getctime', 'getmtime', 'getsize', 'isabs', 'isdir', 'isfile', 'islink', 'ismount', 'join', 'lexists', 'normcase', 'normpath', 'os', 'pardir', 'pathsep', 'realpath', 'relpath', 'sep', 'split', 'splitdrive', 'splitext', 'splitunc', 'stat', 'supports_unicode_filenames', 'sys', 'walk', 'warnings']\n"
     ]
    }
   ],
   "source": [
    "print dir(os.path)"
   ]
  },
  {
   "cell_type": "code",
   "execution_count": null,
   "metadata": {
    "collapsed": true
   },
   "outputs": [],
   "source": []
  }
 ],
 "metadata": {
  "kernelspec": {
   "display_name": "Python 2",
   "language": "python",
   "name": "python2"
  },
  "language_info": {
   "codemirror_mode": {
    "name": "ipython",
    "version": 2
   },
   "file_extension": ".py",
   "mimetype": "text/x-python",
   "name": "python",
   "nbconvert_exporter": "python",
   "pygments_lexer": "ipython2",
   "version": "2.7.13"
  }
 },
 "nbformat": 4,
 "nbformat_minor": 2
}
