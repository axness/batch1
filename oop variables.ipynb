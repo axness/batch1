{
 "cells": [
  {
   "cell_type": "code",
   "execution_count": 1,
   "metadata": {},
   "outputs": [
    {
     "name": "stdout",
     "output_type": "stream",
     "text": [
      "5 10 15 20\n"
     ]
    }
   ],
   "source": [
    "class Myclass():\n",
    "    a = 5\n",
    "    b = 10\n",
    "    def __init__(self, c, d):\n",
    "        self.c = c\n",
    "        self.d = d \n",
    "o = Myclass(15, 20)\n",
    "print o.a, o.b, o.c, o.d\n"
   ]
  },
  {
   "cell_type": "code",
   "execution_count": 2,
   "metadata": {},
   "outputs": [
    {
     "name": "stdout",
     "output_type": "stream",
     "text": [
      "5 10\n"
     ]
    }
   ],
   "source": [
    "print Myclass.a, Myclass.b"
   ]
  },
  {
   "cell_type": "code",
   "execution_count": 3,
   "metadata": {},
   "outputs": [
    {
     "name": "stdout",
     "output_type": "stream",
     "text": [
      "5 10"
     ]
    },
    {
     "ename": "AttributeError",
     "evalue": "class Myclass has no attribute 'c'",
     "output_type": "error",
     "traceback": [
      "\u001b[1;31m---------------------------------------------------------------------------\u001b[0m",
      "\u001b[1;31mAttributeError\u001b[0m                            Traceback (most recent call last)",
      "\u001b[1;32m<ipython-input-3-2d89063bfc53>\u001b[0m in \u001b[0;36m<module>\u001b[1;34m()\u001b[0m\n\u001b[1;32m----> 1\u001b[1;33m \u001b[1;32mprint\u001b[0m \u001b[0mMyclass\u001b[0m\u001b[1;33m.\u001b[0m\u001b[0ma\u001b[0m\u001b[1;33m,\u001b[0m \u001b[0mMyclass\u001b[0m\u001b[1;33m.\u001b[0m\u001b[0mb\u001b[0m\u001b[1;33m,\u001b[0m \u001b[0mMyclass\u001b[0m\u001b[1;33m.\u001b[0m\u001b[0mc\u001b[0m\u001b[1;33m\u001b[0m\u001b[0m\n\u001b[0m",
      "\u001b[1;31mAttributeError\u001b[0m: class Myclass has no attribute 'c'"
     ]
    }
   ],
   "source": [
    "print Myclass.a, Myclass.b, Myclass.c"
   ]
  },
  {
   "cell_type": "code",
   "execution_count": 4,
   "metadata": {},
   "outputs": [
    {
     "name": "stdout",
     "output_type": "stream",
     "text": [
      " 5 10 15 20\n",
      "5 10 25 30\n"
     ]
    }
   ],
   "source": [
    "class Myclass():\n",
    "    a = 5\n",
    "    b = 10\n",
    "    def __init__(self, c, d):\n",
    "        self.c = c\n",
    "        self.d = d \n",
    "o = Myclass(15, 20)\n",
    "print o.a, o.b, o.c, o.d\n",
    "o1 = Myclass(25, 30)\n",
    "print o1.a, o1.b, o1.c, o1.d"
   ]
  },
  {
   "cell_type": "code",
   "execution_count": 5,
   "metadata": {},
   "outputs": [
    {
     "name": "stdout",
     "output_type": "stream",
     "text": [
      "5 10 40 20\n",
      "5 10 25 30\n"
     ]
    }
   ],
   "source": [
    "o.c = 40\n",
    "print o.a, o.b, o.c, o.d\n",
    "print o1.a, o1.b, o1.c, o1.d"
   ]
  },
  {
   "cell_type": "code",
   "execution_count": 6,
   "metadata": {},
   "outputs": [
    {
     "name": "stdout",
     "output_type": "stream",
     "text": [
      "20 10 40 20\n",
      "20 10 25 30\n"
     ]
    }
   ],
   "source": [
    "Myclass.a = 20\n",
    "print o.a, o.b, o.c, o.d\n",
    "print o1.a, o1.b, o1.c, o1.d"
   ]
  },
  {
   "cell_type": "code",
   "execution_count": 7,
   "metadata": {},
   "outputs": [
    {
     "name": "stdout",
     "output_type": "stream",
     "text": [
      "25 10 40 20\n",
      "20 10 25 30\n"
     ]
    }
   ],
   "source": [
    "o.a = 25\n",
    "print o.a, o.b, o.c, o.d\n",
    "print o1.a, o1.b, o1.c, o1.d"
   ]
  },
  {
   "cell_type": "code",
   "execution_count": 8,
   "metadata": {},
   "outputs": [
    {
     "name": "stdout",
     "output_type": "stream",
     "text": [
      "20 10 25 20\n"
     ]
    }
   ],
   "source": [
    "o2 = Myclass(25, 20)\n",
    "print o2.a, o2.b, o2.c, o2.d"
   ]
  },
  {
   "cell_type": "code",
   "execution_count": 9,
   "metadata": {},
   "outputs": [
    {
     "name": "stdout",
     "output_type": "stream",
     "text": [
      "100\n"
     ]
    }
   ],
   "source": [
    "o.e = 100\n",
    "print o.e"
   ]
  },
  {
   "cell_type": "code",
   "execution_count": 10,
   "metadata": {},
   "outputs": [
    {
     "ename": "AttributeError",
     "evalue": "Myclass instance has no attribute 'e'",
     "output_type": "error",
     "traceback": [
      "\u001b[1;31m---------------------------------------------------------------------------\u001b[0m",
      "\u001b[1;31mAttributeError\u001b[0m                            Traceback (most recent call last)",
      "\u001b[1;32m<ipython-input-10-8f4693bd45fd>\u001b[0m in \u001b[0;36m<module>\u001b[1;34m()\u001b[0m\n\u001b[1;32m----> 1\u001b[1;33m \u001b[1;32mprint\u001b[0m \u001b[0mo1\u001b[0m\u001b[1;33m.\u001b[0m\u001b[0me\u001b[0m\u001b[1;33m\u001b[0m\u001b[0m\n\u001b[0m",
      "\u001b[1;31mAttributeError\u001b[0m: Myclass instance has no attribute 'e'"
     ]
    }
   ],
   "source": [
    "print o1.e"
   ]
  },
  {
   "cell_type": "code",
   "execution_count": 11,
   "metadata": {},
   "outputs": [
    {
     "name": "stdout",
     "output_type": "stream",
     "text": [
      "20\n",
      "20 20 20\n"
     ]
    }
   ],
   "source": [
    "Myclass.f = 20\n",
    "print Myclass.f\n",
    "print o.f, o1.f, o2.f"
   ]
  },
  {
   "cell_type": "code",
   "execution_count": 12,
   "metadata": {},
   "outputs": [
    {
     "name": "stdout",
     "output_type": "stream",
     "text": [
      "<__main__.Myclass instance at 0x03987670>\n",
      "<__main__.Myclass instance at 0x03987670>\n"
     ]
    }
   ],
   "source": [
    "class Myclass():\n",
    "    def __init__(python):\n",
    "        print python\n",
    "o = Myclass()\n",
    "print o"
   ]
  },
  {
   "cell_type": "code",
   "execution_count": 14,
   "metadata": {},
   "outputs": [
    {
     "name": "stdout",
     "output_type": "stream",
     "text": [
      "from myfun 5\n"
     ]
    }
   ],
   "source": [
    "class Myclass():\n",
    "    def myfun(self, b):\n",
    "        return \"from myfun %d\" %b\n",
    "o = Myclass()\n",
    "print o.myfun(5)"
   ]
  },
  {
   "cell_type": "code",
   "execution_count": 15,
   "metadata": {},
   "outputs": [
    {
     "name": "stdout",
     "output_type": "stream",
     "text": [
      "<__main__.Fraction instance at 0x03987C10>\n",
      "8/5\n"
     ]
    }
   ],
   "source": [
    "class Fraction():\n",
    "    def __init__(self, num, denom):\n",
    "        self.num = num\n",
    "        self.denom = denom\n",
    "    def display(self):\n",
    "        return str(self.num)+\"/\"+str(self.denom)\n",
    "        \n",
    "f1 = Fraction(8, 5)\n",
    "print f1\n",
    "print f1.display()"
   ]
  },
  {
   "cell_type": "code",
   "execution_count": 16,
   "metadata": {},
   "outputs": [
    {
     "name": "stdout",
     "output_type": "stream",
     "text": [
      "8/5\n"
     ]
    }
   ],
   "source": [
    "class Fraction():\n",
    "    def __init__(self, num, denom):\n",
    "        self.num = num\n",
    "        self.denom = denom\n",
    "    def __str__(self):\n",
    "        return str(self.num)+\"/\"+str(self.denom)\n",
    "        \n",
    "f1 = Fraction(8, 5)\n",
    "print f1\n",
    "#print f1.display()"
   ]
  },
  {
   "cell_type": "code",
   "execution_count": 17,
   "metadata": {},
   "outputs": [
    {
     "name": "stdout",
     "output_type": "stream",
     "text": [
      "['__doc__', '__init__', '__module__', '__str__', 'denom', 'num']\n"
     ]
    }
   ],
   "source": [
    "print dir(f1)"
   ]
  },
  {
   "cell_type": "code",
   "execution_count": null,
   "metadata": {
    "collapsed": true
   },
   "outputs": [],
   "source": []
  }
 ],
 "metadata": {
  "kernelspec": {
   "display_name": "Python 2",
   "language": "python",
   "name": "python2"
  },
  "language_info": {
   "codemirror_mode": {
    "name": "ipython",
    "version": 2
   },
   "file_extension": ".py",
   "mimetype": "text/x-python",
   "name": "python",
   "nbconvert_exporter": "python",
   "pygments_lexer": "ipython2",
   "version": "2.7.13"
  }
 },
 "nbformat": 4,
 "nbformat_minor": 2
}
