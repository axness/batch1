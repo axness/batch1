{
 "cells": [
  {
   "cell_type": "code",
   "execution_count": 1,
   "metadata": {},
   "outputs": [
    {
     "name": "stdout",
     "output_type": "stream",
     "text": [
      "18\n",
      "11\n"
     ]
    }
   ],
   "source": [
    "class Myclass():\n",
    "    @classmethod\n",
    "    def subs(cls, a, b, c):\n",
    "        return cls.add(a, b) - c\n",
    "    @staticmethod\n",
    "    def add(a, b):\n",
    "        return a+b\n",
    "    def mul(self, a, b, c):\n",
    "        return self.add(a,b)*c\n",
    "o = Myclass()\n",
    "print o.mul(4,5,2)\n",
    "print Myclass.subs(4,8,1)"
   ]
  },
  {
   "cell_type": "code",
   "execution_count": 7,
   "metadata": {},
   "outputs": [
    {
     "name": "stdout",
     "output_type": "stream",
     "text": [
      "10\n",
      "20\n",
      "10\n",
      "10\n"
     ]
    }
   ],
   "source": [
    "class Myc():\n",
    "    a = 10\n",
    "    def myfun(self):\n",
    "        print self.a\n",
    "class Chi(Myc):\n",
    "    a = Myc.a\n",
    "    Myc.a = 20\n",
    "    pass\n",
    "o = Chi()\n",
    "print o.a\n",
    "print Myc.a\n",
    "print Chi.a\n",
    "#print Chi.a\n",
    "o.myfun()"
   ]
  },
  {
   "cell_type": "code",
   "execution_count": 8,
   "metadata": {},
   "outputs": [
    {
     "name": "stdout",
     "output_type": "stream",
     "text": [
      "<__main__.Myclass instance at 0x039ED7B0>\n",
      "<__main__.Myclass instance at 0x039EDA58>\n"
     ]
    }
   ],
   "source": [
    "class Myclass():\n",
    "    def myfun(self):\n",
    "        pass\n",
    "o = Myclass()\n",
    "o1 = Myclass()\n",
    "print o\n",
    "print o1"
   ]
  },
  {
   "cell_type": "code",
   "execution_count": 12,
   "metadata": {},
   "outputs": [
    {
     "name": "stdout",
     "output_type": "stream",
     "text": [
      "<class '__main__.Myclass'>\n",
      "<class '__main__.Myclass'>\n",
      "<__main__.Myclass object at 0x03A910F0>\n",
      "<__main__.Myclass object at 0x03A910F0>\n"
     ]
    }
   ],
   "source": [
    "class Myclass(object):\n",
    "    a = None\n",
    "    def __new__(cls):\n",
    "        print cls\n",
    "        if cls.a is None:\n",
    "            cls.a = object.__new__(cls)\n",
    "        return cls.a\n",
    "    def myfun(self):\n",
    "        pass\n",
    "o = Myclass()\n",
    "o1 = Myclass()\n",
    "print o\n",
    "print o1"
   ]
  },
  {
   "cell_type": "code",
   "execution_count": null,
   "metadata": {
    "collapsed": true
   },
   "outputs": [],
   "source": []
  }
 ],
 "metadata": {
  "kernelspec": {
   "display_name": "Python 2",
   "language": "python",
   "name": "python2"
  },
  "language_info": {
   "codemirror_mode": {
    "name": "ipython",
    "version": 2
   },
   "file_extension": ".py",
   "mimetype": "text/x-python",
   "name": "python",
   "nbconvert_exporter": "python",
   "pygments_lexer": "ipython2",
   "version": "2.7.13"
  }
 },
 "nbformat": 4,
 "nbformat_minor": 2
}
