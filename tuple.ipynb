{
 "cells": [
  {
   "cell_type": "code",
   "execution_count": 1,
   "metadata": {
    "collapsed": true
   },
   "outputs": [],
   "source": [
    "a = [10, 12, 15, 'python', 'class']\n",
    "b = (10, 12, 15, 'python', 'class')"
   ]
  },
  {
   "cell_type": "code",
   "execution_count": 2,
   "metadata": {},
   "outputs": [
    {
     "name": "stdout",
     "output_type": "stream",
     "text": [
      "56\n",
      "48\n"
     ]
    }
   ],
   "source": [
    "import sys\n",
    "print sys.getsizeof(a)\n",
    "print sys.getsizeof(b)"
   ]
  },
  {
   "cell_type": "code",
   "execution_count": 4,
   "metadata": {},
   "outputs": [
    {
     "name": "stdout",
     "output_type": "stream",
     "text": [
      "Help on function timeit in module timeit:\n",
      "\n",
      "timeit(stmt='pass', setup='pass', timer=<built-in function clock>, number=1000000)\n",
      "    Convenience function to create Timer object and call timeit method.\n",
      "\n",
      "None\n"
     ]
    }
   ],
   "source": [
    "import timeit\n",
    "print help(timeit.timeit)"
   ]
  },
  {
   "cell_type": "code",
   "execution_count": 5,
   "metadata": {},
   "outputs": [
    {
     "name": "stdout",
     "output_type": "stream",
     "text": [
      "0.344049730966\n",
      "0.0323451649635\n"
     ]
    }
   ],
   "source": [
    "print timeit.timeit(stmt='[2,3,4,5,6,7,8,9,10,11]', number=1000000)\n",
    "print timeit.timeit(stmt='(2,3,4,5,6,7,8,9,10,11)', number=1000000)"
   ]
  },
  {
   "cell_type": "code",
   "execution_count": null,
   "metadata": {
    "collapsed": true
   },
   "outputs": [],
   "source": []
  }
 ],
 "metadata": {
  "kernelspec": {
   "display_name": "Python 2",
   "language": "python",
   "name": "python2"
  },
  "language_info": {
   "codemirror_mode": {
    "name": "ipython",
    "version": 2
   },
   "file_extension": ".py",
   "mimetype": "text/x-python",
   "name": "python",
   "nbconvert_exporter": "python",
   "pygments_lexer": "ipython2",
   "version": "2.7.13"
  }
 },
 "nbformat": 4,
 "nbformat_minor": 2
}
